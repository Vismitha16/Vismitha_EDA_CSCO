{
 "cells": [
  {
   "cell_type": "markdown",
   "id": "42091c96",
   "metadata": {
    "id": "42091c96"
   },
   "source": [
    "## Predicting Stock Prices for Large Cap Technology Companies DS II"
   ]
  },
  {
   "cell_type": "markdown",
   "id": "86eb7a13",
   "metadata": {
    "id": "86eb7a13"
   },
   "source": [
    "## Company Opted for Predicting the Stock Prices : APPLE"
   ]
  },
  {
   "cell_type": "markdown",
   "id": "f5793655",
   "metadata": {
    "id": "f5793655"
   },
   "source": [
    "_______________________________________________________________________________________________________________________________"
   ]
  },
  {
   "cell_type": "markdown",
   "id": "e38f10d3",
   "metadata": {
    "id": "e38f10d3"
   },
   "source": [
    "# Linear Regression"
   ]
  },
  {
   "cell_type": "markdown",
   "id": "13c8d7e9",
   "metadata": {
    "id": "13c8d7e9"
   },
   "source": [
    "### Import Libraries"
   ]
  },
  {
   "cell_type": "code",
   "execution_count": null,
   "id": "fe2ca42e",
   "metadata": {
    "id": "fe2ca42e"
   },
   "outputs": [],
   "source": [
    "import pandas as pd\n",
    "import numpy as np\n",
    "import matplotlib.pyplot as plt\n",
    "import seaborn as sns\n",
    "from scipy import stats\n",
    "from sklearn.model_selection import train_test_split\n",
    "from sklearn.linear_model import LinearRegression\n",
    "from sklearn.preprocessing import LabelEncoder\n",
    "from sklearn.metrics import mean_squared_error\n",
    "import matplotlib.pyplot as plt\n",
    "import math\n",
    "from sklearn.metrics import confusion_matrix,accuracy_score\n",
    "import sklearn.metrics as metrics"
   ]
  },
  {
   "cell_type": "code",
   "execution_count": null,
   "id": "242ec861",
   "metadata": {
    "id": "242ec861"
   },
   "outputs": [],
   "source": [
    "import warnings\n",
    "warnings.filterwarnings('ignore')"
   ]
  },
  {
   "cell_type": "markdown",
   "id": "69dded27",
   "metadata": {
    "id": "69dded27"
   },
   "source": [
    "### Load the Data"
   ]
  },
  {
   "cell_type": "code",
   "execution_count": null,
   "id": "d8c234da",
   "metadata": {
    "id": "d8c234da"
   },
   "outputs": [],
   "source": [
    "df=pd.read_csv('EDA_HD APPLE.csv',parse_dates = [\"Date\"], index_col = \"Date\")"
   ]
  },
  {
   "cell_type": "code",
   "execution_count": null,
   "id": "12349b1c",
   "metadata": {
    "id": "12349b1c",
    "outputId": "5b52ca17-104a-4d74-c5a8-7ba3ebddcee4"
   },
   "outputs": [
    {
     "data": {
      "text/html": [
       "<div>\n",
       "<style scoped>\n",
       "    .dataframe tbody tr th:only-of-type {\n",
       "        vertical-align: middle;\n",
       "    }\n",
       "\n",
       "    .dataframe tbody tr th {\n",
       "        vertical-align: top;\n",
       "    }\n",
       "\n",
       "    .dataframe thead th {\n",
       "        text-align: right;\n",
       "    }\n",
       "</style>\n",
       "<table border=\"1\" class=\"dataframe\">\n",
       "  <thead>\n",
       "    <tr style=\"text-align: right;\">\n",
       "      <th></th>\n",
       "      <th>Close</th>\n",
       "      <th>Volume</th>\n",
       "      <th>Open</th>\n",
       "      <th>High</th>\n",
       "      <th>Low</th>\n",
       "    </tr>\n",
       "    <tr>\n",
       "      <th>Date</th>\n",
       "      <th></th>\n",
       "      <th></th>\n",
       "      <th></th>\n",
       "      <th></th>\n",
       "      <th></th>\n",
       "    </tr>\n",
       "  </thead>\n",
       "  <tbody>\n",
       "    <tr>\n",
       "      <th>2021-06-09</th>\n",
       "      <td>127.13</td>\n",
       "      <td>56877940</td>\n",
       "      <td>127.21</td>\n",
       "      <td>127.75</td>\n",
       "      <td>126.5200</td>\n",
       "    </tr>\n",
       "    <tr>\n",
       "      <th>2021-06-08</th>\n",
       "      <td>126.74</td>\n",
       "      <td>74403770</td>\n",
       "      <td>126.60</td>\n",
       "      <td>128.46</td>\n",
       "      <td>126.2101</td>\n",
       "    </tr>\n",
       "    <tr>\n",
       "      <th>2021-06-07</th>\n",
       "      <td>125.90</td>\n",
       "      <td>71057550</td>\n",
       "      <td>126.17</td>\n",
       "      <td>126.32</td>\n",
       "      <td>124.8321</td>\n",
       "    </tr>\n",
       "    <tr>\n",
       "      <th>2021-06-04</th>\n",
       "      <td>125.89</td>\n",
       "      <td>75169340</td>\n",
       "      <td>124.07</td>\n",
       "      <td>126.16</td>\n",
       "      <td>123.8500</td>\n",
       "    </tr>\n",
       "    <tr>\n",
       "      <th>2021-06-03</th>\n",
       "      <td>123.54</td>\n",
       "      <td>76229170</td>\n",
       "      <td>124.68</td>\n",
       "      <td>124.85</td>\n",
       "      <td>123.1300</td>\n",
       "    </tr>\n",
       "  </tbody>\n",
       "</table>\n",
       "</div>"
      ],
      "text/plain": [
       "             Close    Volume    Open    High       Low\n",
       "Date                                                  \n",
       "2021-06-09  127.13  56877940  127.21  127.75  126.5200\n",
       "2021-06-08  126.74  74403770  126.60  128.46  126.2101\n",
       "2021-06-07  125.90  71057550  126.17  126.32  124.8321\n",
       "2021-06-04  125.89  75169340  124.07  126.16  123.8500\n",
       "2021-06-03  123.54  76229170  124.68  124.85  123.1300"
      ]
     },
     "execution_count": 4,
     "metadata": {
      "tags": []
     },
     "output_type": "execute_result"
    }
   ],
   "source": [
    "df.head()"
   ]
  },
  {
   "cell_type": "code",
   "execution_count": null,
   "id": "a9356b5d",
   "metadata": {
    "id": "a9356b5d",
    "outputId": "192168c2-3c3c-456b-bd0a-2c1213ad0bc5"
   },
   "outputs": [
    {
     "data": {
      "text/html": [
       "<div>\n",
       "<style scoped>\n",
       "    .dataframe tbody tr th:only-of-type {\n",
       "        vertical-align: middle;\n",
       "    }\n",
       "\n",
       "    .dataframe tbody tr th {\n",
       "        vertical-align: top;\n",
       "    }\n",
       "\n",
       "    .dataframe thead th {\n",
       "        text-align: right;\n",
       "    }\n",
       "</style>\n",
       "<table border=\"1\" class=\"dataframe\">\n",
       "  <thead>\n",
       "    <tr style=\"text-align: right;\">\n",
       "      <th></th>\n",
       "      <th>Close</th>\n",
       "      <th>Volume</th>\n",
       "      <th>Open</th>\n",
       "      <th>High</th>\n",
       "      <th>Low</th>\n",
       "    </tr>\n",
       "    <tr>\n",
       "      <th>Date</th>\n",
       "      <th></th>\n",
       "      <th></th>\n",
       "      <th></th>\n",
       "      <th></th>\n",
       "      <th></th>\n",
       "    </tr>\n",
       "  </thead>\n",
       "  <tbody>\n",
       "    <tr>\n",
       "      <th>2011-06-16</th>\n",
       "      <td>11.6129</td>\n",
       "      <td>507299317</td>\n",
       "      <td>11.6750</td>\n",
       "      <td>11.7386</td>\n",
       "      <td>11.3689</td>\n",
       "    </tr>\n",
       "    <tr>\n",
       "      <th>2011-06-15</th>\n",
       "      <td>11.6696</td>\n",
       "      <td>395841722</td>\n",
       "      <td>11.7768</td>\n",
       "      <td>11.7964</td>\n",
       "      <td>11.6029</td>\n",
       "    </tr>\n",
       "    <tr>\n",
       "      <th>2011-06-14</th>\n",
       "      <td>11.8729</td>\n",
       "      <td>333995906</td>\n",
       "      <td>11.7857</td>\n",
       "      <td>11.9018</td>\n",
       "      <td>11.7611</td>\n",
       "    </tr>\n",
       "    <tr>\n",
       "      <th>2011-06-13</th>\n",
       "      <td>11.6643</td>\n",
       "      <td>329376468</td>\n",
       "      <td>11.6857</td>\n",
       "      <td>11.7254</td>\n",
       "      <td>11.6096</td>\n",
       "    </tr>\n",
       "    <tr>\n",
       "      <th>2011-06-10</th>\n",
       "      <td>11.6393</td>\n",
       "      <td>433801306</td>\n",
       "      <td>11.8054</td>\n",
       "      <td>11.8450</td>\n",
       "      <td>11.6254</td>\n",
       "    </tr>\n",
       "  </tbody>\n",
       "</table>\n",
       "</div>"
      ],
      "text/plain": [
       "              Close     Volume     Open     High      Low\n",
       "Date                                                     \n",
       "2011-06-16  11.6129  507299317  11.6750  11.7386  11.3689\n",
       "2011-06-15  11.6696  395841722  11.7768  11.7964  11.6029\n",
       "2011-06-14  11.8729  333995906  11.7857  11.9018  11.7611\n",
       "2011-06-13  11.6643  329376468  11.6857  11.7254  11.6096\n",
       "2011-06-10  11.6393  433801306  11.8054  11.8450  11.6254"
      ]
     },
     "execution_count": 5,
     "metadata": {
      "tags": []
     },
     "output_type": "execute_result"
    }
   ],
   "source": [
    "df.tail()"
   ]
  },
  {
   "cell_type": "code",
   "execution_count": null,
   "id": "6dad7489",
   "metadata": {
    "id": "6dad7489",
    "outputId": "fd5cafa3-da4d-4113-82ad-c46432a64100"
   },
   "outputs": [
    {
     "name": "stdout",
     "output_type": "stream",
     "text": [
      "<class 'pandas.core.frame.DataFrame'>\n",
      "DatetimeIndex: 2516 entries, 2021-06-09 to 2011-06-10\n",
      "Data columns (total 5 columns):\n",
      " #   Column  Non-Null Count  Dtype  \n",
      "---  ------  --------------  -----  \n",
      " 0   Close   2516 non-null   float64\n",
      " 1   Volume  2516 non-null   int64  \n",
      " 2   Open    2516 non-null   float64\n",
      " 3   High    2516 non-null   float64\n",
      " 4   Low     2516 non-null   float64\n",
      "dtypes: float64(4), int64(1)\n",
      "memory usage: 117.9 KB\n"
     ]
    }
   ],
   "source": [
    "df.info()"
   ]
  },
  {
   "cell_type": "markdown",
   "id": "e4b5276e",
   "metadata": {
    "id": "e4b5276e"
   },
   "source": [
    "### Splitting the Data"
   ]
  },
  {
   "cell_type": "code",
   "execution_count": null,
   "id": "d292c18c",
   "metadata": {
    "id": "d292c18c",
    "outputId": "77d22455-bb3c-4c16-ad61-5c9c601412f1"
   },
   "outputs": [
    {
     "name": "stdout",
     "output_type": "stream",
     "text": [
      "               Volume      Open      High       Low\n",
      "Date                                               \n",
      "2013-03-06  459441176   15.5182   15.5446   15.1582\n",
      "2016-07-07   97843400   23.9250   24.1250   23.9050\n",
      "2020-02-25  230673440   75.2375   75.6325   71.5325\n",
      "2021-02-04   84183060  136.3000  137.4000  134.5900\n",
      "2014-11-10  108264240   27.2550   27.3325   27.1675\n",
      "Date\n",
      "2013-03-06     15.2022\n",
      "2016-07-07     23.9850\n",
      "2020-02-25     72.0200\n",
      "2021-02-04    137.3900\n",
      "2014-11-10     27.2075\n",
      "Name: Close, dtype: float64\n"
     ]
    }
   ],
   "source": [
    "df_X=df.loc[:,df.columns != 'Close']\n",
    "df_Y=df['Close']\n",
    "X_train, X_test, y_train, y_test =train_test_split(df_X,df_Y,test_size=0.25)\n",
    "print(X_train.head())\n",
    "print(y_train.head())"
   ]
  },
  {
   "cell_type": "code",
   "execution_count": null,
   "id": "781af128",
   "metadata": {
    "id": "781af128",
    "outputId": "a2c724a1-2510-4514-b5d0-b08193c5e5db"
   },
   "outputs": [
    {
     "data": {
      "text/plain": [
       "(1887, 4)"
      ]
     },
     "execution_count": 8,
     "metadata": {
      "tags": []
     },
     "output_type": "execute_result"
    }
   ],
   "source": [
    "X_train.shape"
   ]
  },
  {
   "cell_type": "code",
   "execution_count": null,
   "id": "99ef00a9",
   "metadata": {
    "id": "99ef00a9",
    "outputId": "0d5f713e-619e-4da7-fb7e-8743f3373a7d"
   },
   "outputs": [
    {
     "data": {
      "text/plain": [
       "(629, 4)"
      ]
     },
     "execution_count": 9,
     "metadata": {
      "tags": []
     },
     "output_type": "execute_result"
    }
   ],
   "source": [
    "X_test.shape"
   ]
  },
  {
   "cell_type": "code",
   "execution_count": null,
   "id": "7ec0d21e",
   "metadata": {
    "id": "7ec0d21e",
    "outputId": "c2c57f92-71f9-40a1-bc44-e625f864c2ad"
   },
   "outputs": [
    {
     "data": {
      "text/plain": [
       "LinearRegression()"
      ]
     },
     "execution_count": 10,
     "metadata": {
      "tags": []
     },
     "output_type": "execute_result"
    }
   ],
   "source": [
    "regressor = LinearRegression()\n",
    "regressor.fit(X_train,y_train)"
   ]
  },
  {
   "cell_type": "code",
   "execution_count": null,
   "id": "565481b1",
   "metadata": {
    "id": "565481b1",
    "outputId": "1d4c002c-367c-410c-96ef-0ba251c7abf4"
   },
   "outputs": [
    {
     "name": "stdout",
     "output_type": "stream",
     "text": [
      "[-5.46135250e-11 -5.54883546e-01  8.21210851e-01  7.33054054e-01]\n"
     ]
    }
   ],
   "source": [
    "print(regressor.coef_)"
   ]
  },
  {
   "cell_type": "code",
   "execution_count": null,
   "id": "352d0ba6",
   "metadata": {
    "id": "352d0ba6",
    "outputId": "0f1a339a-1e7a-4f4c-c6e5-5711c06812f8"
   },
   "outputs": [
    {
     "name": "stdout",
     "output_type": "stream",
     "text": [
      "0.018732098967042532\n"
     ]
    }
   ],
   "source": [
    "print(regressor.intercept_)"
   ]
  },
  {
   "cell_type": "code",
   "execution_count": null,
   "id": "6f041205",
   "metadata": {
    "id": "6f041205"
   },
   "outputs": [],
   "source": [
    "predicted=regressor.predict(X_test)"
   ]
  },
  {
   "cell_type": "code",
   "execution_count": null,
   "id": "548ea5be",
   "metadata": {
    "id": "548ea5be",
    "outputId": "7d51b5ef-13c6-431f-a2df-08b3d036364d"
   },
   "outputs": [
    {
     "name": "stdout",
     "output_type": "stream",
     "text": [
      "               Volume      Open      High       Low\n",
      "Date                                               \n",
      "2016-02-16  192130400   23.7550   24.2125   23.6525\n",
      "2013-06-10  449957580   15.8832   16.0385   15.6000\n",
      "2011-11-18  371858051   13.5329   13.5711   13.3886\n",
      "2013-08-19  509606516   18.0122   18.3479   18.0000\n",
      "2018-05-02  265818880   43.8062   44.4375   43.4500\n",
      "...               ...       ...       ...       ...\n",
      "2012-11-26  628953108   20.5679   21.0714   20.4897\n",
      "2018-06-21  102596960   46.8125   47.0875   46.2350\n",
      "2015-02-03  207368320   29.6250   29.7725   29.4025\n",
      "2021-02-02   83305370  135.7300  136.3100  134.6100\n",
      "2015-08-04  494407600   29.3550   29.4250   28.3125\n",
      "\n",
      "[629 rows x 4 columns]\n"
     ]
    }
   ],
   "source": [
    "print(X_test)"
   ]
  },
  {
   "cell_type": "code",
   "execution_count": null,
   "id": "0ddf6670",
   "metadata": {
    "id": "0ddf6670",
    "outputId": "24d5659d-2851-459b-d2d0-9c2cd59112c6"
   },
   "outputs": [
    {
     "data": {
      "text/plain": [
       "(629,)"
      ]
     },
     "execution_count": 15,
     "metadata": {
      "tags": []
     },
     "output_type": "execute_result"
    }
   ],
   "source": [
    "predicted.shape"
   ]
  },
  {
   "cell_type": "code",
   "execution_count": null,
   "id": "28977c90",
   "metadata": {
    "id": "28977c90"
   },
   "outputs": [],
   "source": [
    "dframe=pd.DataFrame(y_test,predicted)"
   ]
  },
  {
   "cell_type": "code",
   "execution_count": null,
   "id": "fb763604",
   "metadata": {
    "id": "fb763604"
   },
   "outputs": [],
   "source": [
    "dframe=pd.DataFrame({'Actual Price':y_test,'Predicted Price':predicted})"
   ]
  },
  {
   "cell_type": "code",
   "execution_count": null,
   "id": "f32d9171",
   "metadata": {
    "id": "f32d9171",
    "outputId": "97fb7679-f5c2-4d76-acdf-0b6f4c155052"
   },
   "outputs": [
    {
     "data": {
      "text/html": [
       "<div>\n",
       "<style scoped>\n",
       "    .dataframe tbody tr th:only-of-type {\n",
       "        vertical-align: middle;\n",
       "    }\n",
       "\n",
       "    .dataframe tbody tr th {\n",
       "        vertical-align: top;\n",
       "    }\n",
       "\n",
       "    .dataframe thead th {\n",
       "        text-align: right;\n",
       "    }\n",
       "</style>\n",
       "<table border=\"1\" class=\"dataframe\">\n",
       "  <thead>\n",
       "    <tr style=\"text-align: right;\">\n",
       "      <th></th>\n",
       "      <th>Actual Price</th>\n",
       "      <th>Predicted Price</th>\n",
       "    </tr>\n",
       "    <tr>\n",
       "      <th>Date</th>\n",
       "      <th></th>\n",
       "      <th></th>\n",
       "    </tr>\n",
       "  </thead>\n",
       "  <tbody>\n",
       "    <tr>\n",
       "      <th>2016-02-16</th>\n",
       "      <td>24.1600</td>\n",
       "      <td>24.049109</td>\n",
       "    </tr>\n",
       "    <tr>\n",
       "      <th>2013-06-10</th>\n",
       "      <td>15.6746</td>\n",
       "      <td>15.787465</td>\n",
       "    </tr>\n",
       "    <tr>\n",
       "      <th>2011-11-18</th>\n",
       "      <td>13.3907</td>\n",
       "      <td>13.448542</td>\n",
       "    </tr>\n",
       "    <tr>\n",
       "      <th>2013-08-19</th>\n",
       "      <td>18.1336</td>\n",
       "      <td>18.258695</td>\n",
       "    </tr>\n",
       "    <tr>\n",
       "      <th>2018-05-02</th>\n",
       "      <td>44.1425</td>\n",
       "      <td>44.040631</td>\n",
       "    </tr>\n",
       "  </tbody>\n",
       "</table>\n",
       "</div>"
      ],
      "text/plain": [
       "            Actual Price  Predicted Price\n",
       "Date                                     \n",
       "2016-02-16       24.1600        24.049109\n",
       "2013-06-10       15.6746        15.787465\n",
       "2011-11-18       13.3907        13.448542\n",
       "2013-08-19       18.1336        18.258695\n",
       "2018-05-02       44.1425        44.040631"
      ]
     },
     "execution_count": 18,
     "metadata": {
      "tags": []
     },
     "output_type": "execute_result"
    }
   ],
   "source": [
    "dframe.head()"
   ]
  },
  {
   "cell_type": "code",
   "execution_count": null,
   "id": "8827456d",
   "metadata": {
    "id": "8827456d",
    "outputId": "04ba1aad-1cd7-48bb-c3d9-db3c2c8eaf9e"
   },
   "outputs": [
    {
     "data": {
      "text/html": [
       "<div>\n",
       "<style scoped>\n",
       "    .dataframe tbody tr th:only-of-type {\n",
       "        vertical-align: middle;\n",
       "    }\n",
       "\n",
       "    .dataframe tbody tr th {\n",
       "        vertical-align: top;\n",
       "    }\n",
       "\n",
       "    .dataframe thead th {\n",
       "        text-align: right;\n",
       "    }\n",
       "</style>\n",
       "<table border=\"1\" class=\"dataframe\">\n",
       "  <thead>\n",
       "    <tr style=\"text-align: right;\">\n",
       "      <th></th>\n",
       "      <th>Actual Price</th>\n",
       "      <th>Predicted Price</th>\n",
       "    </tr>\n",
       "    <tr>\n",
       "      <th>Date</th>\n",
       "      <th></th>\n",
       "      <th></th>\n",
       "    </tr>\n",
       "  </thead>\n",
       "  <tbody>\n",
       "    <tr>\n",
       "      <th>2012-11-26</th>\n",
       "      <td>21.0547</td>\n",
       "      <td>20.895713</td>\n",
       "    </tr>\n",
       "    <tr>\n",
       "      <th>2018-06-21</th>\n",
       "      <td>46.3650</td>\n",
       "      <td>46.599163</td>\n",
       "    </tr>\n",
       "    <tr>\n",
       "      <th>2015-02-03</th>\n",
       "      <td>29.6625</td>\n",
       "      <td>29.572104</td>\n",
       "    </tr>\n",
       "    <tr>\n",
       "      <th>2021-02-02</th>\n",
       "      <td>134.9900</td>\n",
       "      <td>135.315496</td>\n",
       "    </tr>\n",
       "    <tr>\n",
       "      <th>2015-08-04</th>\n",
       "      <td>28.6600</td>\n",
       "      <td>28.621846</td>\n",
       "    </tr>\n",
       "  </tbody>\n",
       "</table>\n",
       "</div>"
      ],
      "text/plain": [
       "            Actual Price  Predicted Price\n",
       "Date                                     \n",
       "2012-11-26       21.0547        20.895713\n",
       "2018-06-21       46.3650        46.599163\n",
       "2015-02-03       29.6625        29.572104\n",
       "2021-02-02      134.9900       135.315496\n",
       "2015-08-04       28.6600        28.621846"
      ]
     },
     "execution_count": 19,
     "metadata": {
      "tags": []
     },
     "output_type": "execute_result"
    }
   ],
   "source": [
    "dframe.tail()"
   ]
  },
  {
   "cell_type": "code",
   "execution_count": null,
   "id": "c63bd033",
   "metadata": {
    "id": "c63bd033",
    "outputId": "147ea07b-ae1a-4735-9a4c-d848dad447d0"
   },
   "outputs": [
    {
     "name": "stdout",
     "output_type": "stream",
     "text": [
      "Accuracy: 99.98489077541532\n"
     ]
    }
   ],
   "source": [
    "accuracy=regressor.score(X_test,y_test)\n",
    "print('Accuracy:',accuracy*100)"
   ]
  },
  {
   "cell_type": "code",
   "execution_count": null,
   "id": "6cb7d614",
   "metadata": {
    "id": "6cb7d614",
    "outputId": "95dddf9d-d095-4879-97f5-3c59fc5a6671"
   },
   "outputs": [
    {
     "name": "stdout",
     "output_type": "stream",
     "text": [
      "Mean Absoluter Error: 0.1945210531867696\n"
     ]
    }
   ],
   "source": [
    "print('Mean Absoluter Error:', metrics.mean_absolute_error(y_test,predicted))"
   ]
  },
  {
   "cell_type": "code",
   "execution_count": null,
   "id": "41ba6445",
   "metadata": {
    "id": "41ba6445",
    "outputId": "9110c617-0da0-482c-ac82-a0b5490d0e4d"
   },
   "outputs": [
    {
     "name": "stdout",
     "output_type": "stream",
     "text": [
      "Mean Squared Error: 0.14502005951874697\n"
     ]
    }
   ],
   "source": [
    "error = mean_squared_error(y_test,predicted)\n",
    "print('Mean Squared Error:',error)"
   ]
  },
  {
   "cell_type": "code",
   "execution_count": null,
   "id": "d7b42751",
   "metadata": {
    "id": "d7b42751"
   },
   "outputs": [],
   "source": [
    "graph=dframe.head(20)"
   ]
  },
  {
   "cell_type": "code",
   "execution_count": null,
   "id": "47576fd1",
   "metadata": {
    "id": "47576fd1",
    "outputId": "213f83a0-e078-49b9-d960-eaa3513583d0"
   },
   "outputs": [
    {
     "data": {
      "text/plain": [
       "<AxesSubplot:xlabel='Date'>"
      ]
     },
     "execution_count": 24,
     "metadata": {
      "tags": []
     },
     "output_type": "execute_result"
    },
    {
     "data": {
      "image/png": "[encoded data removed]",
      "text/plain": [
       "<Figure size 432x288 with 1 Axes>"
      ]
     },
     "metadata": {
      "needs_background": "light",
      "tags": []
     },
     "output_type": "display_data"
    }
   ],
   "source": [
    "graph.plot(kind='bar')"
   ]
  },
  {
   "cell_type": "code",
   "execution_count": null,
   "id": "0fb0d12a",
   "metadata": {
    "id": "0fb0d12a",
    "outputId": "0445a880-83dc-4063-81df-3aee482847c4"
   },
   "outputs": [
    {
     "data": {
      "text/plain": [
       "<AxesSubplot:xlabel='Date'>"
      ]
     },
     "execution_count": 25,
     "metadata": {
      "tags": []
     },
     "output_type": "execute_result"
    },
    {
     "data": {
      "image/png": "[encoded data removed]",
      "text/plain": [
       "<Figure size 1152x432 with 1 Axes>"
      ]
     },
     "metadata": {
      "needs_background": "light",
      "tags": []
     },
     "output_type": "display_data"
    }
   ],
   "source": [
    "dframe.plot(figsize=(16,6))"
   ]
  }
 ],
 "metadata": {
  "colab": {
   "name": "Linear Regression on Historical Data.ipynb",
   "provenance": []
  },
  "kernelspec": {
   "display_name": "Python 3 (ipykernel)",
   "language": "python",
   "name": "python3"
  },
  "language_info": {
   "codemirror_mode": {
    "name": "ipython",
    "version": 3
   },
   "file_extension": ".py",
   "mimetype": "text/x-python",
   "name": "python",
   "nbconvert_exporter": "python",
   "pygments_lexer": "ipython3",
   "version": "3.9.6"
  }
 },
 "nbformat": 4,
 "nbformat_minor": 5
}
