{
 "cells": [
  {
   "cell_type": "markdown",
   "id": "2d4d61d2",
   "metadata": {
    "id": "2d4d61d2"
   },
   "source": [
    "## Predicting Stock Prices for Large Cap Technology Companies DS II"
   ]
  },
  {
   "cell_type": "markdown",
   "id": "479029d1",
   "metadata": {
    "id": "479029d1"
   },
   "source": [
    "## Company Opted for Predicting the Stock Prices : APPLE"
   ]
  },
  {
   "cell_type": "markdown",
   "id": "58738fa4",
   "metadata": {
    "id": "58738fa4"
   },
   "source": [
    "______________________________________________________________________________________________________________________________"
   ]
  },
  {
   "cell_type": "markdown",
   "id": "bc1f9223",
   "metadata": {
    "id": "bc1f9223"
   },
   "source": [
    "# Model used for Predicting:LSTM [Long Short-Term Memory network]"
   ]
  },
  {
   "cell_type": "markdown",
   "id": "8ae502d1",
   "metadata": {
    "id": "8ae502d1"
   },
   "source": [
    "### Import Libraries"
   ]
  },
  {
   "cell_type": "code",
   "execution_count": null,
   "id": "7bd2f1df",
   "metadata": {
    "id": "7bd2f1df"
   },
   "outputs": [],
   "source": [
    "import numpy as np\n",
    "import pandas as pd\n",
    "import matplotlib.pyplot as plt\n",
    "import seaborn as sns\n",
    "%matplotlib inline\n",
    "import datetime\n",
    "\n",
    "import warnings\n",
    "warnings.filterwarnings('ignore')\n",
    "\n",
    "import nltk\n",
    "from nltk.classify import NaiveBayesClassifier\n",
    "from nltk.corpus import subjectivity\n",
    "from nltk.sentiment import SentimentAnalyzer\n",
    "from nltk.sentiment.util import *\n",
    "\n",
    "import math\n",
    "from sklearn.preprocessing import MinMaxScaler\n",
    "from keras.models import Sequential\n",
    "from keras.layers import Dense, LSTM, Dropout\n",
    "plt.style.use('seaborn')"
   ]
  },
  {
   "cell_type": "markdown",
   "id": "67eccdac",
   "metadata": {
    "id": "67eccdac"
   },
   "source": [
    "### Load the Data"
   ]
  },
  {
   "cell_type": "code",
   "execution_count": null,
   "id": "3e9b6365",
   "metadata": {
    "id": "3e9b6365",
    "outputId": "ef142052-bfa0-4393-b66c-45d2af8768a6",
    "scrolled": true
   },
   "outputs": [
    {
     "data": {
      "text/html": [
       "<div>\n",
       "<style scoped>\n",
       "    .dataframe tbody tr th:only-of-type {\n",
       "        vertical-align: middle;\n",
       "    }\n",
       "\n",
       "    .dataframe tbody tr th {\n",
       "        vertical-align: top;\n",
       "    }\n",
       "\n",
       "    .dataframe thead th {\n",
       "        text-align: right;\n",
       "    }\n",
       "</style>\n",
       "<table border=\"1\" class=\"dataframe\">\n",
       "  <thead>\n",
       "    <tr style=\"text-align: right;\">\n",
       "      <th></th>\n",
       "      <th>Date</th>\n",
       "      <th>Close</th>\n",
       "      <th>Volume</th>\n",
       "      <th>Open</th>\n",
       "      <th>High</th>\n",
       "      <th>Low</th>\n",
       "      <th>Headlines Title</th>\n",
       "    </tr>\n",
       "  </thead>\n",
       "  <tbody>\n",
       "    <tr>\n",
       "      <th>0</th>\n",
       "      <td>01-02-2015</td>\n",
       "      <td>$27.3325</td>\n",
       "      <td>212575080</td>\n",
       "      <td>$27.8475</td>\n",
       "      <td>$27.86</td>\n",
       "      <td>$26.8375</td>\n",
       "      <td>What to expect from Apple in 2015 beyond its s...</td>\n",
       "    </tr>\n",
       "    <tr>\n",
       "      <th>1</th>\n",
       "      <td>01-05-2015</td>\n",
       "      <td>$26.5625</td>\n",
       "      <td>256843520</td>\n",
       "      <td>$27.0725</td>\n",
       "      <td>$27.1625</td>\n",
       "      <td>$26.3525</td>\n",
       "      <td>SIM-free iPhone 6, 6 Plus reportedly debuting ...</td>\n",
       "    </tr>\n",
       "    <tr>\n",
       "      <th>2</th>\n",
       "      <td>01-06-2015</td>\n",
       "      <td>$26.565</td>\n",
       "      <td>262729000</td>\n",
       "      <td>$26.635</td>\n",
       "      <td>$26.8575</td>\n",
       "      <td>$26.1575</td>\n",
       "      <td>Technology Transforming Cars Into \"Phones On W...</td>\n",
       "    </tr>\n",
       "    <tr>\n",
       "      <th>3</th>\n",
       "      <td>01-07-2015</td>\n",
       "      <td>$26.9375</td>\n",
       "      <td>159933400</td>\n",
       "      <td>$26.8</td>\n",
       "      <td>$27.05</td>\n",
       "      <td>$26.6737</td>\n",
       "      <td>Apple issues fourth developer beta of OS X 10....</td>\n",
       "    </tr>\n",
       "    <tr>\n",
       "      <th>4</th>\n",
       "      <td>01-08-2015</td>\n",
       "      <td>$27.9725</td>\n",
       "      <td>236675040</td>\n",
       "      <td>$27.3075</td>\n",
       "      <td>$28.0375</td>\n",
       "      <td>$27.175</td>\n",
       "      <td>Apple company recalls 2014 shipments after lin...</td>\n",
       "    </tr>\n",
       "  </tbody>\n",
       "</table>\n",
       "</div>"
      ],
      "text/plain": [
       "         Date     Close     Volume      Open      High       Low  \\\n",
       "0  01-02-2015  $27.3325  212575080  $27.8475    $27.86  $26.8375   \n",
       "1  01-05-2015  $26.5625  256843520  $27.0725  $27.1625  $26.3525   \n",
       "2  01-06-2015   $26.565  262729000   $26.635  $26.8575  $26.1575   \n",
       "3  01-07-2015  $26.9375  159933400     $26.8    $27.05  $26.6737   \n",
       "4  01-08-2015  $27.9725  236675040  $27.3075  $28.0375   $27.175   \n",
       "\n",
       "                                     Headlines Title  \n",
       "0  What to expect from Apple in 2015 beyond its s...  \n",
       "1  SIM-free iPhone 6, 6 Plus reportedly debuting ...  \n",
       "2  Technology Transforming Cars Into \"Phones On W...  \n",
       "3  Apple issues fourth developer beta of OS X 10....  \n",
       "4  Apple company recalls 2014 shipments after lin...  "
      ]
     },
     "execution_count": 2,
     "metadata": {
      "tags": []
     },
     "output_type": "execute_result"
    }
   ],
   "source": [
    "df = pd.read_csv('Price_News.csv')\n",
    "df.head()"
   ]
  },
  {
   "cell_type": "code",
   "execution_count": null,
   "id": "c9089c00",
   "metadata": {
    "id": "c9089c00",
    "outputId": "7dcb2ef9-c482-4cd1-ef0f-6de4f29c9649",
    "scrolled": true
   },
   "outputs": [
    {
     "data": {
      "text/html": [
       "<div>\n",
       "<style scoped>\n",
       "    .dataframe tbody tr th:only-of-type {\n",
       "        vertical-align: middle;\n",
       "    }\n",
       "\n",
       "    .dataframe tbody tr th {\n",
       "        vertical-align: top;\n",
       "    }\n",
       "\n",
       "    .dataframe thead th {\n",
       "        text-align: right;\n",
       "    }\n",
       "</style>\n",
       "<table border=\"1\" class=\"dataframe\">\n",
       "  <thead>\n",
       "    <tr style=\"text-align: right;\">\n",
       "      <th></th>\n",
       "      <th>Date</th>\n",
       "      <th>Close</th>\n",
       "      <th>Volume</th>\n",
       "      <th>Open</th>\n",
       "      <th>High</th>\n",
       "      <th>Low</th>\n",
       "      <th>Headlines Title</th>\n",
       "    </tr>\n",
       "  </thead>\n",
       "  <tbody>\n",
       "    <tr>\n",
       "      <th>0</th>\n",
       "      <td>01-02-2015</td>\n",
       "      <td>$27.3325</td>\n",
       "      <td>212575080</td>\n",
       "      <td>$27.8475</td>\n",
       "      <td>$27.86</td>\n",
       "      <td>$26.8375</td>\n",
       "      <td>What to expect from Apple in 2015 beyond its s...</td>\n",
       "    </tr>\n",
       "    <tr>\n",
       "      <th>1</th>\n",
       "      <td>01-05-2015</td>\n",
       "      <td>$26.5625</td>\n",
       "      <td>256843520</td>\n",
       "      <td>$27.0725</td>\n",
       "      <td>$27.1625</td>\n",
       "      <td>$26.3525</td>\n",
       "      <td>SIM-free iPhone 6, 6 Plus reportedly debuting ...</td>\n",
       "    </tr>\n",
       "    <tr>\n",
       "      <th>2</th>\n",
       "      <td>01-06-2015</td>\n",
       "      <td>$26.565</td>\n",
       "      <td>262729000</td>\n",
       "      <td>$26.635</td>\n",
       "      <td>$26.8575</td>\n",
       "      <td>$26.1575</td>\n",
       "      <td>Technology Transforming Cars Into \"Phones On W...</td>\n",
       "    </tr>\n",
       "    <tr>\n",
       "      <th>3</th>\n",
       "      <td>01-07-2015</td>\n",
       "      <td>$26.9375</td>\n",
       "      <td>159933400</td>\n",
       "      <td>$26.8</td>\n",
       "      <td>$27.05</td>\n",
       "      <td>$26.6737</td>\n",
       "      <td>Apple issues fourth developer beta of OS X 10....</td>\n",
       "    </tr>\n",
       "    <tr>\n",
       "      <th>4</th>\n",
       "      <td>01-08-2015</td>\n",
       "      <td>$27.9725</td>\n",
       "      <td>236675040</td>\n",
       "      <td>$27.3075</td>\n",
       "      <td>$28.0375</td>\n",
       "      <td>$27.175</td>\n",
       "      <td>Apple company recalls 2014 shipments after lin...</td>\n",
       "    </tr>\n",
       "  </tbody>\n",
       "</table>\n",
       "</div>"
      ],
      "text/plain": [
       "         Date     Close     Volume      Open      High       Low  \\\n",
       "0  01-02-2015  $27.3325  212575080  $27.8475    $27.86  $26.8375   \n",
       "1  01-05-2015  $26.5625  256843520  $27.0725  $27.1625  $26.3525   \n",
       "2  01-06-2015   $26.565  262729000   $26.635  $26.8575  $26.1575   \n",
       "3  01-07-2015  $26.9375  159933400     $26.8    $27.05  $26.6737   \n",
       "4  01-08-2015  $27.9725  236675040  $27.3075  $28.0375   $27.175   \n",
       "\n",
       "                                     Headlines Title  \n",
       "0  What to expect from Apple in 2015 beyond its s...  \n",
       "1  SIM-free iPhone 6, 6 Plus reportedly debuting ...  \n",
       "2  Technology Transforming Cars Into \"Phones On W...  \n",
       "3  Apple issues fourth developer beta of OS X 10....  \n",
       "4  Apple company recalls 2014 shipments after lin...  "
      ]
     },
     "execution_count": 3,
     "metadata": {
      "tags": []
     },
     "output_type": "execute_result"
    }
   ],
   "source": [
    "df.head()"
   ]
  },
  {
   "cell_type": "code",
   "execution_count": null,
   "id": "eb09c542",
   "metadata": {
    "id": "eb09c542",
    "outputId": "b955f230-2146-461c-9549-628cbf75ef7c"
   },
   "outputs": [
    {
     "data": {
      "text/html": [
       "<div>\n",
       "<style scoped>\n",
       "    .dataframe tbody tr th:only-of-type {\n",
       "        vertical-align: middle;\n",
       "    }\n",
       "\n",
       "    .dataframe tbody tr th {\n",
       "        vertical-align: top;\n",
       "    }\n",
       "\n",
       "    .dataframe thead th {\n",
       "        text-align: right;\n",
       "    }\n",
       "</style>\n",
       "<table border=\"1\" class=\"dataframe\">\n",
       "  <thead>\n",
       "    <tr style=\"text-align: right;\">\n",
       "      <th></th>\n",
       "      <th>Date</th>\n",
       "      <th>Close</th>\n",
       "      <th>Volume</th>\n",
       "      <th>Open</th>\n",
       "      <th>High</th>\n",
       "      <th>Low</th>\n",
       "      <th>Headlines Title</th>\n",
       "    </tr>\n",
       "  </thead>\n",
       "  <tbody>\n",
       "    <tr>\n",
       "      <th>1615</th>\n",
       "      <td>06-03-2021</td>\n",
       "      <td>$123.54</td>\n",
       "      <td>76229170</td>\n",
       "      <td>$124.68</td>\n",
       "      <td>$124.85</td>\n",
       "      <td>$123.13</td>\n",
       "      <td>Buy RH Stock on the Dip Before Q1 Earnings for...</td>\n",
       "    </tr>\n",
       "    <tr>\n",
       "      <th>1616</th>\n",
       "      <td>06-04-2021</td>\n",
       "      <td>$125.89</td>\n",
       "      <td>75169340</td>\n",
       "      <td>$124.07</td>\n",
       "      <td>$126.16</td>\n",
       "      <td>$123.85</td>\n",
       "      <td>Global equities nearly grasp all-time record, ...</td>\n",
       "    </tr>\n",
       "    <tr>\n",
       "      <th>1617</th>\n",
       "      <td>06-07-2021</td>\n",
       "      <td>$125.9</td>\n",
       "      <td>71057550</td>\n",
       "      <td>$126.17</td>\n",
       "      <td>$126.32</td>\n",
       "      <td>$124.8321</td>\n",
       "      <td>Apple&amp;quot;s new &amp;quot;private relay&amp;quot; fea...</td>\n",
       "    </tr>\n",
       "    <tr>\n",
       "      <th>1618</th>\n",
       "      <td>06-08-2021</td>\n",
       "      <td>$126.74</td>\n",
       "      <td>74403770</td>\n",
       "      <td>$126.6</td>\n",
       "      <td>$128.46</td>\n",
       "      <td>$126.2101</td>\n",
       "      <td>Apple, Chinese manufacturers in talks on US ca...</td>\n",
       "    </tr>\n",
       "    <tr>\n",
       "      <th>1619</th>\n",
       "      <td>06-09-2021</td>\n",
       "      <td>$127.13</td>\n",
       "      <td>56877940</td>\n",
       "      <td>$127.21</td>\n",
       "      <td>$127.75</td>\n",
       "      <td>$126.52</td>\n",
       "      <td>athenahealth is set to support the iOS 15 Feat...</td>\n",
       "    </tr>\n",
       "  </tbody>\n",
       "</table>\n",
       "</div>"
      ],
      "text/plain": [
       "            Date    Close    Volume     Open     High        Low  \\\n",
       "1615  06-03-2021  $123.54  76229170  $124.68  $124.85    $123.13   \n",
       "1616  06-04-2021  $125.89  75169340  $124.07  $126.16    $123.85   \n",
       "1617  06-07-2021   $125.9  71057550  $126.17  $126.32  $124.8321   \n",
       "1618  06-08-2021  $126.74  74403770   $126.6  $128.46  $126.2101   \n",
       "1619  06-09-2021  $127.13  56877940  $127.21  $127.75    $126.52   \n",
       "\n",
       "                                        Headlines Title  \n",
       "1615  Buy RH Stock on the Dip Before Q1 Earnings for...  \n",
       "1616  Global equities nearly grasp all-time record, ...  \n",
       "1617  Apple&quot;s new &quot;private relay&quot; fea...  \n",
       "1618  Apple, Chinese manufacturers in talks on US ca...  \n",
       "1619  athenahealth is set to support the iOS 15 Feat...  "
      ]
     },
     "execution_count": 4,
     "metadata": {
      "tags": []
     },
     "output_type": "execute_result"
    }
   ],
   "source": [
    "df.tail()"
   ]
  },
  {
   "cell_type": "code",
   "execution_count": null,
   "id": "0c886e60",
   "metadata": {
    "id": "0c886e60",
    "outputId": "f3e5de56-a73e-4ff9-c866-dfcd51b683cc"
   },
   "outputs": [
    {
     "data": {
      "text/plain": [
       "Date               0\n",
       "Close              0\n",
       "Volume             0\n",
       "Open               0\n",
       "High               0\n",
       "Low                0\n",
       "Headlines Title    0\n",
       "dtype: int64"
      ]
     },
     "execution_count": 5,
     "metadata": {
      "tags": []
     },
     "output_type": "execute_result"
    }
   ],
   "source": [
    "df.isnull().sum()"
   ]
  },
  {
   "cell_type": "code",
   "execution_count": null,
   "id": "7d23cf34",
   "metadata": {
    "id": "7d23cf34",
    "outputId": "5334078e-f2fe-461b-9a7e-836428526dd1"
   },
   "outputs": [
    {
     "data": {
      "text/plain": [
       "0"
      ]
     },
     "execution_count": 6,
     "metadata": {
      "tags": []
     },
     "output_type": "execute_result"
    }
   ],
   "source": [
    "sum(df.duplicated())"
   ]
  },
  {
   "cell_type": "code",
   "execution_count": null,
   "id": "82134058",
   "metadata": {
    "id": "82134058",
    "outputId": "cf57575b-48c5-4517-a870-0e1a0e6d5686"
   },
   "outputs": [
    {
     "data": {
      "text/plain": [
       "1620"
      ]
     },
     "execution_count": 7,
     "metadata": {
      "tags": []
     },
     "output_type": "execute_result"
    }
   ],
   "source": [
    "len(df)"
   ]
  },
  {
   "cell_type": "code",
   "execution_count": null,
   "id": "c8ea7691",
   "metadata": {
    "id": "c8ea7691",
    "outputId": "6456cb5e-4b06-4686-a3b2-3992d9d6c4bf"
   },
   "outputs": [
    {
     "name": "stdout",
     "output_type": "stream",
     "text": [
      "<class 'pandas.core.frame.DataFrame'>\n",
      "RangeIndex: 1620 entries, 0 to 1619\n",
      "Data columns (total 7 columns):\n",
      " #   Column           Non-Null Count  Dtype \n",
      "---  ------           --------------  ----- \n",
      " 0   Date             1620 non-null   object\n",
      " 1   Close            1620 non-null   object\n",
      " 2   Volume           1620 non-null   int64 \n",
      " 3   Open             1620 non-null   object\n",
      " 4   High             1620 non-null   object\n",
      " 5   Low              1620 non-null   object\n",
      " 6   Headlines Title  1620 non-null   object\n",
      "dtypes: int64(1), object(6)\n",
      "memory usage: 88.7+ KB\n"
     ]
    }
   ],
   "source": [
    "df.info()"
   ]
  },
  {
   "cell_type": "markdown",
   "id": "75f5b403",
   "metadata": {
    "id": "75f5b403"
   },
   "source": [
    "### Convert the Data"
   ]
  },
  {
   "cell_type": "code",
   "execution_count": null,
   "id": "d8106b93",
   "metadata": {
    "id": "d8106b93"
   },
   "outputs": [],
   "source": [
    "df['Date'] = pd.to_datetime(df['Date'], errors='coerce')"
   ]
  },
  {
   "cell_type": "code",
   "execution_count": null,
   "id": "8ae1d06b",
   "metadata": {
    "id": "8ae1d06b"
   },
   "outputs": [],
   "source": [
    "df[\"Date\"]= df[\"Date\"].dt.strftime(\"%d/%m/%y\")"
   ]
  },
  {
   "cell_type": "code",
   "execution_count": null,
   "id": "dd24d6d5",
   "metadata": {
    "id": "dd24d6d5"
   },
   "outputs": [],
   "source": [
    "df['Close'] = df['Close'].str.replace('$', '')\n",
    "df['Close'] = df['Close'].astype('float')"
   ]
  },
  {
   "cell_type": "code",
   "execution_count": null,
   "id": "01c0f422",
   "metadata": {
    "id": "01c0f422"
   },
   "outputs": [],
   "source": [
    "df['Open']=df['Open'].str.replace('$','').astype(float)"
   ]
  },
  {
   "cell_type": "code",
   "execution_count": null,
   "id": "5c90a249",
   "metadata": {
    "id": "5c90a249"
   },
   "outputs": [],
   "source": [
    "df['High'] = df['High'].str.replace('$', '')\n",
    "df['High'] = df['High'].astype('float')"
   ]
  },
  {
   "cell_type": "code",
   "execution_count": null,
   "id": "548fdcd2",
   "metadata": {
    "id": "548fdcd2"
   },
   "outputs": [],
   "source": [
    "df['Low'] = df['Low'].str.replace('$', '')\n",
    "df['Low'] = df['Low'].astype('float')"
   ]
  },
  {
   "cell_type": "code",
   "execution_count": null,
   "id": "f361e953",
   "metadata": {
    "id": "f361e953"
   },
   "outputs": [],
   "source": [
    "df['Volume'] = df['Volume'].astype('float')"
   ]
  },
  {
   "cell_type": "code",
   "execution_count": null,
   "id": "847ef34b",
   "metadata": {
    "id": "847ef34b",
    "outputId": "cd17a6d7-135e-46f5-e3dc-dabc2d6a31ec"
   },
   "outputs": [
    {
     "data": {
      "text/plain": [
       "Date                object\n",
       "Close              float64\n",
       "Volume             float64\n",
       "Open               float64\n",
       "High               float64\n",
       "Low                float64\n",
       "Headlines Title     object\n",
       "dtype: object"
      ]
     },
     "execution_count": 16,
     "metadata": {
      "tags": []
     },
     "output_type": "execute_result"
    }
   ],
   "source": [
    "df.dtypes"
   ]
  },
  {
   "cell_type": "markdown",
   "id": "3d8f8ad0",
   "metadata": {
    "id": "3d8f8ad0"
   },
   "source": [
    "### Preprocessing the Data"
   ]
  },
  {
   "cell_type": "markdown",
   "id": "3412c3ab",
   "metadata": {
    "id": "3412c3ab"
   },
   "source": [
    "#### Removing Punctuations"
   ]
  },
  {
   "cell_type": "code",
   "execution_count": null,
   "id": "72a48067",
   "metadata": {
    "id": "72a48067",
    "outputId": "d48a0ebd-34a9-4e6c-eabe-1ef08e6dc05a"
   },
   "outputs": [
    {
     "data": {
      "text/html": [
       "<div>\n",
       "<style scoped>\n",
       "    .dataframe tbody tr th:only-of-type {\n",
       "        vertical-align: middle;\n",
       "    }\n",
       "\n",
       "    .dataframe tbody tr th {\n",
       "        vertical-align: top;\n",
       "    }\n",
       "\n",
       "    .dataframe thead th {\n",
       "        text-align: right;\n",
       "    }\n",
       "</style>\n",
       "<table border=\"1\" class=\"dataframe\">\n",
       "  <thead>\n",
       "    <tr style=\"text-align: right;\">\n",
       "      <th></th>\n",
       "      <th>Date</th>\n",
       "      <th>Close</th>\n",
       "      <th>Volume</th>\n",
       "      <th>Open</th>\n",
       "      <th>High</th>\n",
       "      <th>Low</th>\n",
       "      <th>Headlines Title</th>\n",
       "    </tr>\n",
       "  </thead>\n",
       "  <tbody>\n",
       "    <tr>\n",
       "      <th>0</th>\n",
       "      <td>02/01/15</td>\n",
       "      <td>27.3325</td>\n",
       "      <td>212575080.0</td>\n",
       "      <td>27.8475</td>\n",
       "      <td>27.8600</td>\n",
       "      <td>26.8375</td>\n",
       "      <td>What to expect from Apple in 2015 beyond its s...</td>\n",
       "    </tr>\n",
       "    <tr>\n",
       "      <th>1</th>\n",
       "      <td>05/01/15</td>\n",
       "      <td>26.5625</td>\n",
       "      <td>256843520.0</td>\n",
       "      <td>27.0725</td>\n",
       "      <td>27.1625</td>\n",
       "      <td>26.3525</td>\n",
       "      <td>SIM-free iPhone 6, 6 Plus reportedly debuting ...</td>\n",
       "    </tr>\n",
       "    <tr>\n",
       "      <th>2</th>\n",
       "      <td>06/01/15</td>\n",
       "      <td>26.5650</td>\n",
       "      <td>262729000.0</td>\n",
       "      <td>26.6350</td>\n",
       "      <td>26.8575</td>\n",
       "      <td>26.1575</td>\n",
       "      <td>Technology Transforming Cars Into \"Phones On W...</td>\n",
       "    </tr>\n",
       "    <tr>\n",
       "      <th>3</th>\n",
       "      <td>07/01/15</td>\n",
       "      <td>26.9375</td>\n",
       "      <td>159933400.0</td>\n",
       "      <td>26.8000</td>\n",
       "      <td>27.0500</td>\n",
       "      <td>26.6737</td>\n",
       "      <td>Apple issues fourth developer beta of OS X 10....</td>\n",
       "    </tr>\n",
       "    <tr>\n",
       "      <th>4</th>\n",
       "      <td>08/01/15</td>\n",
       "      <td>27.9725</td>\n",
       "      <td>236675040.0</td>\n",
       "      <td>27.3075</td>\n",
       "      <td>28.0375</td>\n",
       "      <td>27.1750</td>\n",
       "      <td>Apple company recalls 2014 shipments after lin...</td>\n",
       "    </tr>\n",
       "  </tbody>\n",
       "</table>\n",
       "</div>"
      ],
      "text/plain": [
       "       Date    Close       Volume     Open     High      Low  \\\n",
       "0  02/01/15  27.3325  212575080.0  27.8475  27.8600  26.8375   \n",
       "1  05/01/15  26.5625  256843520.0  27.0725  27.1625  26.3525   \n",
       "2  06/01/15  26.5650  262729000.0  26.6350  26.8575  26.1575   \n",
       "3  07/01/15  26.9375  159933400.0  26.8000  27.0500  26.6737   \n",
       "4  08/01/15  27.9725  236675040.0  27.3075  28.0375  27.1750   \n",
       "\n",
       "                                     Headlines Title  \n",
       "0  What to expect from Apple in 2015 beyond its s...  \n",
       "1  SIM-free iPhone 6, 6 Plus reportedly debuting ...  \n",
       "2  Technology Transforming Cars Into \"Phones On W...  \n",
       "3  Apple issues fourth developer beta of OS X 10....  \n",
       "4  Apple company recalls 2014 shipments after lin...  "
      ]
     },
     "execution_count": 17,
     "metadata": {
      "tags": []
     },
     "output_type": "execute_result"
    }
   ],
   "source": [
    "df.head()"
   ]
  },
  {
   "cell_type": "code",
   "execution_count": null,
   "id": "5525d56a",
   "metadata": {
    "id": "5525d56a",
    "outputId": "8682797c-9865-4040-f5b5-ff56f4e6c572"
   },
   "outputs": [
    {
     "data": {
      "text/html": [
       "<div>\n",
       "<style scoped>\n",
       "    .dataframe tbody tr th:only-of-type {\n",
       "        vertical-align: middle;\n",
       "    }\n",
       "\n",
       "    .dataframe tbody tr th {\n",
       "        vertical-align: top;\n",
       "    }\n",
       "\n",
       "    .dataframe thead th {\n",
       "        text-align: right;\n",
       "    }\n",
       "</style>\n",
       "<table border=\"1\" class=\"dataframe\">\n",
       "  <thead>\n",
       "    <tr style=\"text-align: right;\">\n",
       "      <th></th>\n",
       "      <th>Date</th>\n",
       "      <th>Close</th>\n",
       "      <th>Volume</th>\n",
       "      <th>Open</th>\n",
       "      <th>High</th>\n",
       "      <th>Low</th>\n",
       "      <th>Headlines Title</th>\n",
       "    </tr>\n",
       "  </thead>\n",
       "  <tbody>\n",
       "    <tr>\n",
       "      <th>0</th>\n",
       "      <td>02/01/15</td>\n",
       "      <td>27.3325</td>\n",
       "      <td>212575080.0</td>\n",
       "      <td>27.8475</td>\n",
       "      <td>27.8600</td>\n",
       "      <td>26.8375</td>\n",
       "      <td>What to expect from Apple in      beyond its s...</td>\n",
       "    </tr>\n",
       "    <tr>\n",
       "      <th>1</th>\n",
       "      <td>05/01/15</td>\n",
       "      <td>26.5625</td>\n",
       "      <td>256843520.0</td>\n",
       "      <td>27.0725</td>\n",
       "      <td>27.1625</td>\n",
       "      <td>26.3525</td>\n",
       "      <td>SIM free iPhone      Plus reportedly debuting ...</td>\n",
       "    </tr>\n",
       "    <tr>\n",
       "      <th>2</th>\n",
       "      <td>06/01/15</td>\n",
       "      <td>26.5650</td>\n",
       "      <td>262729000.0</td>\n",
       "      <td>26.6350</td>\n",
       "      <td>26.8575</td>\n",
       "      <td>26.1575</td>\n",
       "      <td>Technology Transforming Cars Into  Phones On W...</td>\n",
       "    </tr>\n",
       "    <tr>\n",
       "      <th>3</th>\n",
       "      <td>07/01/15</td>\n",
       "      <td>26.9375</td>\n",
       "      <td>159933400.0</td>\n",
       "      <td>26.8000</td>\n",
       "      <td>27.0500</td>\n",
       "      <td>26.6737</td>\n",
       "      <td>Apple issues fourth developer beta of OS X    ...</td>\n",
       "    </tr>\n",
       "    <tr>\n",
       "      <th>4</th>\n",
       "      <td>08/01/15</td>\n",
       "      <td>27.9725</td>\n",
       "      <td>236675040.0</td>\n",
       "      <td>27.3075</td>\n",
       "      <td>28.0375</td>\n",
       "      <td>27.1750</td>\n",
       "      <td>Apple company recalls      shipments after lin...</td>\n",
       "    </tr>\n",
       "  </tbody>\n",
       "</table>\n",
       "</div>"
      ],
      "text/plain": [
       "       Date    Close       Volume     Open     High      Low  \\\n",
       "0  02/01/15  27.3325  212575080.0  27.8475  27.8600  26.8375   \n",
       "1  05/01/15  26.5625  256843520.0  27.0725  27.1625  26.3525   \n",
       "2  06/01/15  26.5650  262729000.0  26.6350  26.8575  26.1575   \n",
       "3  07/01/15  26.9375  159933400.0  26.8000  27.0500  26.6737   \n",
       "4  08/01/15  27.9725  236675040.0  27.3075  28.0375  27.1750   \n",
       "\n",
       "                                     Headlines Title  \n",
       "0  What to expect from Apple in      beyond its s...  \n",
       "1  SIM free iPhone      Plus reportedly debuting ...  \n",
       "2  Technology Transforming Cars Into  Phones On W...  \n",
       "3  Apple issues fourth developer beta of OS X    ...  \n",
       "4  Apple company recalls      shipments after lin...  "
      ]
     },
     "execution_count": 18,
     "metadata": {
      "tags": []
     },
     "output_type": "execute_result"
    }
   ],
   "source": [
    "df['Headlines Title'].replace(\"[^a-zA-Z]\",\" \",regex=True,inplace=True)\n",
    "df.head()"
   ]
  },
  {
   "cell_type": "markdown",
   "id": "e21daff8",
   "metadata": {
    "id": "e21daff8"
   },
   "source": [
    "#### Converting Headlines to lower case"
   ]
  },
  {
   "cell_type": "code",
   "execution_count": null,
   "id": "99c5971c",
   "metadata": {
    "id": "99c5971c",
    "outputId": "569c23c6-1fc4-4ca8-ed5b-e2c9695be08d"
   },
   "outputs": [
    {
     "data": {
      "text/html": [
       "<div>\n",
       "<style scoped>\n",
       "    .dataframe tbody tr th:only-of-type {\n",
       "        vertical-align: middle;\n",
       "    }\n",
       "\n",
       "    .dataframe tbody tr th {\n",
       "        vertical-align: top;\n",
       "    }\n",
       "\n",
       "    .dataframe thead th {\n",
       "        text-align: right;\n",
       "    }\n",
       "</style>\n",
       "<table border=\"1\" class=\"dataframe\">\n",
       "  <thead>\n",
       "    <tr style=\"text-align: right;\">\n",
       "      <th></th>\n",
       "      <th>Date</th>\n",
       "      <th>Close</th>\n",
       "      <th>Volume</th>\n",
       "      <th>Open</th>\n",
       "      <th>High</th>\n",
       "      <th>Low</th>\n",
       "      <th>Headlines Title</th>\n",
       "    </tr>\n",
       "  </thead>\n",
       "  <tbody>\n",
       "    <tr>\n",
       "      <th>0</th>\n",
       "      <td>02/01/15</td>\n",
       "      <td>27.3325</td>\n",
       "      <td>212575080.0</td>\n",
       "      <td>27.8475</td>\n",
       "      <td>27.8600</td>\n",
       "      <td>26.8375</td>\n",
       "      <td>what to expect from apple in      beyond its s...</td>\n",
       "    </tr>\n",
       "    <tr>\n",
       "      <th>1</th>\n",
       "      <td>05/01/15</td>\n",
       "      <td>26.5625</td>\n",
       "      <td>256843520.0</td>\n",
       "      <td>27.0725</td>\n",
       "      <td>27.1625</td>\n",
       "      <td>26.3525</td>\n",
       "      <td>sim free iphone      plus reportedly debuting ...</td>\n",
       "    </tr>\n",
       "    <tr>\n",
       "      <th>2</th>\n",
       "      <td>06/01/15</td>\n",
       "      <td>26.5650</td>\n",
       "      <td>262729000.0</td>\n",
       "      <td>26.6350</td>\n",
       "      <td>26.8575</td>\n",
       "      <td>26.1575</td>\n",
       "      <td>technology transforming cars into  phones on w...</td>\n",
       "    </tr>\n",
       "    <tr>\n",
       "      <th>3</th>\n",
       "      <td>07/01/15</td>\n",
       "      <td>26.9375</td>\n",
       "      <td>159933400.0</td>\n",
       "      <td>26.8000</td>\n",
       "      <td>27.0500</td>\n",
       "      <td>26.6737</td>\n",
       "      <td>apple issues fourth developer beta of os x    ...</td>\n",
       "    </tr>\n",
       "    <tr>\n",
       "      <th>4</th>\n",
       "      <td>08/01/15</td>\n",
       "      <td>27.9725</td>\n",
       "      <td>236675040.0</td>\n",
       "      <td>27.3075</td>\n",
       "      <td>28.0375</td>\n",
       "      <td>27.1750</td>\n",
       "      <td>apple company recalls      shipments after lin...</td>\n",
       "    </tr>\n",
       "  </tbody>\n",
       "</table>\n",
       "</div>"
      ],
      "text/plain": [
       "       Date    Close       Volume     Open     High      Low  \\\n",
       "0  02/01/15  27.3325  212575080.0  27.8475  27.8600  26.8375   \n",
       "1  05/01/15  26.5625  256843520.0  27.0725  27.1625  26.3525   \n",
       "2  06/01/15  26.5650  262729000.0  26.6350  26.8575  26.1575   \n",
       "3  07/01/15  26.9375  159933400.0  26.8000  27.0500  26.6737   \n",
       "4  08/01/15  27.9725  236675040.0  27.3075  28.0375  27.1750   \n",
       "\n",
       "                                     Headlines Title  \n",
       "0  what to expect from apple in      beyond its s...  \n",
       "1  sim free iphone      plus reportedly debuting ...  \n",
       "2  technology transforming cars into  phones on w...  \n",
       "3  apple issues fourth developer beta of os x    ...  \n",
       "4  apple company recalls      shipments after lin...  "
      ]
     },
     "execution_count": 19,
     "metadata": {
      "tags": []
     },
     "output_type": "execute_result"
    }
   ],
   "source": [
    "for index in ['Headlines Title']:\n",
    "    df[index]=df[index].str.lower()\n",
    "df.head()"
   ]
  },
  {
   "cell_type": "markdown",
   "id": "a45e9725",
   "metadata": {
    "id": "a45e9725"
   },
   "source": [
    "### Sentimental Analysis"
   ]
  },
  {
   "cell_type": "code",
   "execution_count": null,
   "id": "7aa84940",
   "metadata": {
    "id": "7aa84940",
    "outputId": "da68baff-5a2c-413f-a47a-d0b549e718ed"
   },
   "outputs": [
    {
     "data": {
      "text/html": [
       "<div>\n",
       "<style scoped>\n",
       "    .dataframe tbody tr th:only-of-type {\n",
       "        vertical-align: middle;\n",
       "    }\n",
       "\n",
       "    .dataframe tbody tr th {\n",
       "        vertical-align: top;\n",
       "    }\n",
       "\n",
       "    .dataframe thead th {\n",
       "        text-align: right;\n",
       "    }\n",
       "</style>\n",
       "<table border=\"1\" class=\"dataframe\">\n",
       "  <thead>\n",
       "    <tr style=\"text-align: right;\">\n",
       "      <th></th>\n",
       "      <th>Date</th>\n",
       "      <th>Close</th>\n",
       "      <th>Volume</th>\n",
       "      <th>Open</th>\n",
       "      <th>High</th>\n",
       "      <th>Low</th>\n",
       "      <th>Headlines Title</th>\n",
       "      <th>compound</th>\n",
       "      <th>negative</th>\n",
       "      <th>neutral</th>\n",
       "      <th>positive</th>\n",
       "    </tr>\n",
       "  </thead>\n",
       "  <tbody>\n",
       "    <tr>\n",
       "      <th>0</th>\n",
       "      <td>02/01/15</td>\n",
       "      <td>27.3325</td>\n",
       "      <td>212575080.0</td>\n",
       "      <td>27.8475</td>\n",
       "      <td>27.8600</td>\n",
       "      <td>26.8375</td>\n",
       "      <td>what to expect from apple in      beyond its s...</td>\n",
       "      <td>0.9875</td>\n",
       "      <td>0.041</td>\n",
       "      <td>0.849</td>\n",
       "      <td>0.110</td>\n",
       "    </tr>\n",
       "    <tr>\n",
       "      <th>1</th>\n",
       "      <td>05/01/15</td>\n",
       "      <td>26.5625</td>\n",
       "      <td>256843520.0</td>\n",
       "      <td>27.0725</td>\n",
       "      <td>27.1625</td>\n",
       "      <td>26.3525</td>\n",
       "      <td>sim free iphone      plus reportedly debuting ...</td>\n",
       "      <td>0.9979</td>\n",
       "      <td>0.033</td>\n",
       "      <td>0.807</td>\n",
       "      <td>0.159</td>\n",
       "    </tr>\n",
       "    <tr>\n",
       "      <th>2</th>\n",
       "      <td>06/01/15</td>\n",
       "      <td>26.5650</td>\n",
       "      <td>262729000.0</td>\n",
       "      <td>26.6350</td>\n",
       "      <td>26.8575</td>\n",
       "      <td>26.1575</td>\n",
       "      <td>technology transforming cars into  phones on w...</td>\n",
       "      <td>0.8779</td>\n",
       "      <td>0.049</td>\n",
       "      <td>0.883</td>\n",
       "      <td>0.068</td>\n",
       "    </tr>\n",
       "    <tr>\n",
       "      <th>3</th>\n",
       "      <td>07/01/15</td>\n",
       "      <td>26.9375</td>\n",
       "      <td>159933400.0</td>\n",
       "      <td>26.8000</td>\n",
       "      <td>27.0500</td>\n",
       "      <td>26.6737</td>\n",
       "      <td>apple issues fourth developer beta of os x    ...</td>\n",
       "      <td>-0.8225</td>\n",
       "      <td>0.076</td>\n",
       "      <td>0.862</td>\n",
       "      <td>0.062</td>\n",
       "    </tr>\n",
       "    <tr>\n",
       "      <th>4</th>\n",
       "      <td>08/01/15</td>\n",
       "      <td>27.9725</td>\n",
       "      <td>236675040.0</td>\n",
       "      <td>27.3075</td>\n",
       "      <td>28.0375</td>\n",
       "      <td>27.1750</td>\n",
       "      <td>apple company recalls      shipments after lin...</td>\n",
       "      <td>0.9973</td>\n",
       "      <td>0.039</td>\n",
       "      <td>0.828</td>\n",
       "      <td>0.132</td>\n",
       "    </tr>\n",
       "  </tbody>\n",
       "</table>\n",
       "</div>"
      ],
      "text/plain": [
       "       Date    Close       Volume     Open     High      Low  \\\n",
       "0  02/01/15  27.3325  212575080.0  27.8475  27.8600  26.8375   \n",
       "1  05/01/15  26.5625  256843520.0  27.0725  27.1625  26.3525   \n",
       "2  06/01/15  26.5650  262729000.0  26.6350  26.8575  26.1575   \n",
       "3  07/01/15  26.9375  159933400.0  26.8000  27.0500  26.6737   \n",
       "4  08/01/15  27.9725  236675040.0  27.3075  28.0375  27.1750   \n",
       "\n",
       "                                     Headlines Title  compound  negative  \\\n",
       "0  what to expect from apple in      beyond its s...    0.9875     0.041   \n",
       "1  sim free iphone      plus reportedly debuting ...    0.9979     0.033   \n",
       "2  technology transforming cars into  phones on w...    0.8779     0.049   \n",
       "3  apple issues fourth developer beta of os x    ...   -0.8225     0.076   \n",
       "4  apple company recalls      shipments after lin...    0.9973     0.039   \n",
       "\n",
       "   neutral  positive  \n",
       "0    0.849     0.110  \n",
       "1    0.807     0.159  \n",
       "2    0.883     0.068  \n",
       "3    0.862     0.062  \n",
       "4    0.828     0.132  "
      ]
     },
     "execution_count": 20,
     "metadata": {
      "tags": []
     },
     "output_type": "execute_result"
    }
   ],
   "source": [
    "# importing requires libraries to analyze the sentiments\n",
    "from nltk.sentiment.vader import SentimentIntensityAnalyzer\n",
    "import unicodedata\n",
    "\n",
    "\n",
    "# instantiating the Sentiment Analyzer\n",
    "sid = SentimentIntensityAnalyzer()\n",
    "\n",
    "# calculating sentiment scores\n",
    "df['compound'] = df['Headlines Title'].apply(lambda x: sid.polarity_scores(x)['compound'])\n",
    "df['negative'] = df['Headlines Title'].apply(lambda x: sid.polarity_scores(x)['neg'])\n",
    "df['neutral'] = df['Headlines Title'].apply(lambda x: sid.polarity_scores(x)['neu'])\n",
    "df['positive'] = df['Headlines Title'].apply(lambda x: sid.polarity_scores(x)['pos'])\n",
    "\n",
    "# displaying the data\n",
    "df.head()"
   ]
  },
  {
   "cell_type": "code",
   "execution_count": null,
   "id": "2abf81f0",
   "metadata": {
    "id": "2abf81f0"
   },
   "outputs": [],
   "source": [
    "from textblob import TextBlob\n",
    "polarity = []\n",
    "subjectivity = []\n",
    "for idx, row in df.iterrows():\n",
    "  polarity.append(TextBlob(row['Headlines Title']).sentiment[0])\n",
    "  subjectivity.append(TextBlob(row['Headlines Title']).sentiment[1])"
   ]
  },
  {
   "cell_type": "code",
   "execution_count": null,
   "id": "b4433074",
   "metadata": {
    "id": "b4433074",
    "outputId": "8728ca2c-882c-4c4c-8ead-dbf13c016e9b"
   },
   "outputs": [
    {
     "data": {
      "text/html": [
       "<div>\n",
       "<style scoped>\n",
       "    .dataframe tbody tr th:only-of-type {\n",
       "        vertical-align: middle;\n",
       "    }\n",
       "\n",
       "    .dataframe tbody tr th {\n",
       "        vertical-align: top;\n",
       "    }\n",
       "\n",
       "    .dataframe thead th {\n",
       "        text-align: right;\n",
       "    }\n",
       "</style>\n",
       "<table border=\"1\" class=\"dataframe\">\n",
       "  <thead>\n",
       "    <tr style=\"text-align: right;\">\n",
       "      <th></th>\n",
       "      <th>Date</th>\n",
       "      <th>Close</th>\n",
       "      <th>Volume</th>\n",
       "      <th>Open</th>\n",
       "      <th>High</th>\n",
       "      <th>Low</th>\n",
       "      <th>Headlines Title</th>\n",
       "      <th>compound</th>\n",
       "      <th>negative</th>\n",
       "      <th>neutral</th>\n",
       "      <th>positive</th>\n",
       "      <th>polarity</th>\n",
       "      <th>subjectivity</th>\n",
       "    </tr>\n",
       "  </thead>\n",
       "  <tbody>\n",
       "    <tr>\n",
       "      <th>0</th>\n",
       "      <td>02/01/15</td>\n",
       "      <td>27.3325</td>\n",
       "      <td>212575080.0</td>\n",
       "      <td>27.8475</td>\n",
       "      <td>27.8600</td>\n",
       "      <td>26.8375</td>\n",
       "      <td>what to expect from apple in      beyond its s...</td>\n",
       "      <td>0.9875</td>\n",
       "      <td>0.041</td>\n",
       "      <td>0.849</td>\n",
       "      <td>0.110</td>\n",
       "      <td>0.140552</td>\n",
       "      <td>0.527698</td>\n",
       "    </tr>\n",
       "    <tr>\n",
       "      <th>1</th>\n",
       "      <td>05/01/15</td>\n",
       "      <td>26.5625</td>\n",
       "      <td>256843520.0</td>\n",
       "      <td>27.0725</td>\n",
       "      <td>27.1625</td>\n",
       "      <td>26.3525</td>\n",
       "      <td>sim free iphone      plus reportedly debuting ...</td>\n",
       "      <td>0.9979</td>\n",
       "      <td>0.033</td>\n",
       "      <td>0.807</td>\n",
       "      <td>0.159</td>\n",
       "      <td>0.129695</td>\n",
       "      <td>0.447602</td>\n",
       "    </tr>\n",
       "    <tr>\n",
       "      <th>2</th>\n",
       "      <td>06/01/15</td>\n",
       "      <td>26.5650</td>\n",
       "      <td>262729000.0</td>\n",
       "      <td>26.6350</td>\n",
       "      <td>26.8575</td>\n",
       "      <td>26.1575</td>\n",
       "      <td>technology transforming cars into  phones on w...</td>\n",
       "      <td>0.8779</td>\n",
       "      <td>0.049</td>\n",
       "      <td>0.883</td>\n",
       "      <td>0.068</td>\n",
       "      <td>0.108243</td>\n",
       "      <td>0.347794</td>\n",
       "    </tr>\n",
       "    <tr>\n",
       "      <th>3</th>\n",
       "      <td>07/01/15</td>\n",
       "      <td>26.9375</td>\n",
       "      <td>159933400.0</td>\n",
       "      <td>26.8000</td>\n",
       "      <td>27.0500</td>\n",
       "      <td>26.6737</td>\n",
       "      <td>apple issues fourth developer beta of os x    ...</td>\n",
       "      <td>-0.8225</td>\n",
       "      <td>0.076</td>\n",
       "      <td>0.862</td>\n",
       "      <td>0.062</td>\n",
       "      <td>0.125090</td>\n",
       "      <td>0.410056</td>\n",
       "    </tr>\n",
       "    <tr>\n",
       "      <th>4</th>\n",
       "      <td>08/01/15</td>\n",
       "      <td>27.9725</td>\n",
       "      <td>236675040.0</td>\n",
       "      <td>27.3075</td>\n",
       "      <td>28.0375</td>\n",
       "      <td>27.1750</td>\n",
       "      <td>apple company recalls      shipments after lin...</td>\n",
       "      <td>0.9973</td>\n",
       "      <td>0.039</td>\n",
       "      <td>0.828</td>\n",
       "      <td>0.132</td>\n",
       "      <td>0.136965</td>\n",
       "      <td>0.400757</td>\n",
       "    </tr>\n",
       "  </tbody>\n",
       "</table>\n",
       "</div>"
      ],
      "text/plain": [
       "       Date    Close       Volume     Open     High      Low  \\\n",
       "0  02/01/15  27.3325  212575080.0  27.8475  27.8600  26.8375   \n",
       "1  05/01/15  26.5625  256843520.0  27.0725  27.1625  26.3525   \n",
       "2  06/01/15  26.5650  262729000.0  26.6350  26.8575  26.1575   \n",
       "3  07/01/15  26.9375  159933400.0  26.8000  27.0500  26.6737   \n",
       "4  08/01/15  27.9725  236675040.0  27.3075  28.0375  27.1750   \n",
       "\n",
       "                                     Headlines Title  compound  negative  \\\n",
       "0  what to expect from apple in      beyond its s...    0.9875     0.041   \n",
       "1  sim free iphone      plus reportedly debuting ...    0.9979     0.033   \n",
       "2  technology transforming cars into  phones on w...    0.8779     0.049   \n",
       "3  apple issues fourth developer beta of os x    ...   -0.8225     0.076   \n",
       "4  apple company recalls      shipments after lin...    0.9973     0.039   \n",
       "\n",
       "   neutral  positive  polarity  subjectivity  \n",
       "0    0.849     0.110  0.140552      0.527698  \n",
       "1    0.807     0.159  0.129695      0.447602  \n",
       "2    0.883     0.068  0.108243      0.347794  \n",
       "3    0.862     0.062  0.125090      0.410056  \n",
       "4    0.828     0.132  0.136965      0.400757  "
      ]
     },
     "execution_count": 22,
     "metadata": {
      "tags": []
     },
     "output_type": "execute_result"
    }
   ],
   "source": [
    "df['polarity'] = polarity\n",
    "df['subjectivity'] = subjectivity\n",
    "df.head()"
   ]
  },
  {
   "cell_type": "markdown",
   "id": "d78f02e4",
   "metadata": {
    "id": "d78f02e4"
   },
   "source": [
    "### Finilazing the Data"
   ]
  },
  {
   "cell_type": "code",
   "execution_count": null,
   "id": "77a174bc",
   "metadata": {
    "id": "77a174bc",
    "outputId": "bdbdd785-2b40-471a-a0a8-c42de7d12e1e"
   },
   "outputs": [
    {
     "data": {
      "text/html": [
       "<div>\n",
       "<style scoped>\n",
       "    .dataframe tbody tr th:only-of-type {\n",
       "        vertical-align: middle;\n",
       "    }\n",
       "\n",
       "    .dataframe tbody tr th {\n",
       "        vertical-align: top;\n",
       "    }\n",
       "\n",
       "    .dataframe thead th {\n",
       "        text-align: right;\n",
       "    }\n",
       "</style>\n",
       "<table border=\"1\" class=\"dataframe\">\n",
       "  <thead>\n",
       "    <tr style=\"text-align: right;\">\n",
       "      <th></th>\n",
       "      <th>Date</th>\n",
       "      <th>Close</th>\n",
       "      <th>compound</th>\n",
       "      <th>negative</th>\n",
       "      <th>neutral</th>\n",
       "      <th>positive</th>\n",
       "      <th>polarity</th>\n",
       "      <th>subjectivity</th>\n",
       "      <th>Open</th>\n",
       "      <th>High</th>\n",
       "      <th>Low</th>\n",
       "      <th>Volume</th>\n",
       "    </tr>\n",
       "  </thead>\n",
       "  <tbody>\n",
       "    <tr>\n",
       "      <th>0</th>\n",
       "      <td>02/01/15</td>\n",
       "      <td>27.3325</td>\n",
       "      <td>0.9875</td>\n",
       "      <td>0.041</td>\n",
       "      <td>0.849</td>\n",
       "      <td>0.110</td>\n",
       "      <td>0.140552</td>\n",
       "      <td>0.527698</td>\n",
       "      <td>27.8475</td>\n",
       "      <td>27.8600</td>\n",
       "      <td>26.8375</td>\n",
       "      <td>212575080.0</td>\n",
       "    </tr>\n",
       "    <tr>\n",
       "      <th>1</th>\n",
       "      <td>05/01/15</td>\n",
       "      <td>26.5625</td>\n",
       "      <td>0.9979</td>\n",
       "      <td>0.033</td>\n",
       "      <td>0.807</td>\n",
       "      <td>0.159</td>\n",
       "      <td>0.129695</td>\n",
       "      <td>0.447602</td>\n",
       "      <td>27.0725</td>\n",
       "      <td>27.1625</td>\n",
       "      <td>26.3525</td>\n",
       "      <td>256843520.0</td>\n",
       "    </tr>\n",
       "    <tr>\n",
       "      <th>2</th>\n",
       "      <td>06/01/15</td>\n",
       "      <td>26.5650</td>\n",
       "      <td>0.8779</td>\n",
       "      <td>0.049</td>\n",
       "      <td>0.883</td>\n",
       "      <td>0.068</td>\n",
       "      <td>0.108243</td>\n",
       "      <td>0.347794</td>\n",
       "      <td>26.6350</td>\n",
       "      <td>26.8575</td>\n",
       "      <td>26.1575</td>\n",
       "      <td>262729000.0</td>\n",
       "    </tr>\n",
       "    <tr>\n",
       "      <th>3</th>\n",
       "      <td>07/01/15</td>\n",
       "      <td>26.9375</td>\n",
       "      <td>-0.8225</td>\n",
       "      <td>0.076</td>\n",
       "      <td>0.862</td>\n",
       "      <td>0.062</td>\n",
       "      <td>0.125090</td>\n",
       "      <td>0.410056</td>\n",
       "      <td>26.8000</td>\n",
       "      <td>27.0500</td>\n",
       "      <td>26.6737</td>\n",
       "      <td>159933400.0</td>\n",
       "    </tr>\n",
       "    <tr>\n",
       "      <th>4</th>\n",
       "      <td>08/01/15</td>\n",
       "      <td>27.9725</td>\n",
       "      <td>0.9973</td>\n",
       "      <td>0.039</td>\n",
       "      <td>0.828</td>\n",
       "      <td>0.132</td>\n",
       "      <td>0.136965</td>\n",
       "      <td>0.400757</td>\n",
       "      <td>27.3075</td>\n",
       "      <td>28.0375</td>\n",
       "      <td>27.1750</td>\n",
       "      <td>236675040.0</td>\n",
       "    </tr>\n",
       "  </tbody>\n",
       "</table>\n",
       "</div>"
      ],
      "text/plain": [
       "       Date    Close  compound  negative  neutral  positive  polarity  \\\n",
       "0  02/01/15  27.3325    0.9875     0.041    0.849     0.110  0.140552   \n",
       "1  05/01/15  26.5625    0.9979     0.033    0.807     0.159  0.129695   \n",
       "2  06/01/15  26.5650    0.8779     0.049    0.883     0.068  0.108243   \n",
       "3  07/01/15  26.9375   -0.8225     0.076    0.862     0.062  0.125090   \n",
       "4  08/01/15  27.9725    0.9973     0.039    0.828     0.132  0.136965   \n",
       "\n",
       "   subjectivity     Open     High      Low       Volume  \n",
       "0      0.527698  27.8475  27.8600  26.8375  212575080.0  \n",
       "1      0.447602  27.0725  27.1625  26.3525  256843520.0  \n",
       "2      0.347794  26.6350  26.8575  26.1575  262729000.0  \n",
       "3      0.410056  26.8000  27.0500  26.6737  159933400.0  \n",
       "4      0.400757  27.3075  28.0375  27.1750  236675040.0  "
      ]
     },
     "execution_count": 23,
     "metadata": {
      "tags": []
     },
     "output_type": "execute_result"
    }
   ],
   "source": [
    "# dropping the 'Headlines Title' which is not required\n",
    "df.drop(['Headlines Title'], inplace=True, axis=1)\n",
    "\n",
    "# rearranging the columns of the whole stock_data\n",
    "df = df[['Date','Close', 'compound', 'negative', 'neutral', 'positive','polarity','subjectivity','Open', 'High', 'Low', 'Volume']]\n",
    "\n",
    "# displaying the final data\n",
    "df.head()"
   ]
  },
  {
   "cell_type": "code",
   "execution_count": null,
   "id": "f1e680b7",
   "metadata": {
    "id": "f1e680b7",
    "outputId": "0c723393-6fe6-4d78-9b21-0fd74288ee17"
   },
   "outputs": [
    {
     "data": {
      "text/html": [
       "<div>\n",
       "<style scoped>\n",
       "    .dataframe tbody tr th:only-of-type {\n",
       "        vertical-align: middle;\n",
       "    }\n",
       "\n",
       "    .dataframe tbody tr th {\n",
       "        vertical-align: top;\n",
       "    }\n",
       "\n",
       "    .dataframe thead th {\n",
       "        text-align: right;\n",
       "    }\n",
       "</style>\n",
       "<table border=\"1\" class=\"dataframe\">\n",
       "  <thead>\n",
       "    <tr style=\"text-align: right;\">\n",
       "      <th></th>\n",
       "      <th>Date</th>\n",
       "      <th>Close</th>\n",
       "      <th>compound</th>\n",
       "      <th>negative</th>\n",
       "      <th>neutral</th>\n",
       "      <th>positive</th>\n",
       "      <th>polarity</th>\n",
       "      <th>subjectivity</th>\n",
       "      <th>Open</th>\n",
       "      <th>High</th>\n",
       "      <th>Low</th>\n",
       "      <th>Volume</th>\n",
       "    </tr>\n",
       "  </thead>\n",
       "  <tbody>\n",
       "    <tr>\n",
       "      <th>1615</th>\n",
       "      <td>03/06/21</td>\n",
       "      <td>123.54</td>\n",
       "      <td>0.9945</td>\n",
       "      <td>0.042</td>\n",
       "      <td>0.868</td>\n",
       "      <td>0.090</td>\n",
       "      <td>0.116462</td>\n",
       "      <td>0.337818</td>\n",
       "      <td>124.68</td>\n",
       "      <td>124.85</td>\n",
       "      <td>123.1300</td>\n",
       "      <td>76229170.0</td>\n",
       "    </tr>\n",
       "    <tr>\n",
       "      <th>1616</th>\n",
       "      <td>04/06/21</td>\n",
       "      <td>125.89</td>\n",
       "      <td>0.9939</td>\n",
       "      <td>0.024</td>\n",
       "      <td>0.902</td>\n",
       "      <td>0.074</td>\n",
       "      <td>0.134752</td>\n",
       "      <td>0.407989</td>\n",
       "      <td>124.07</td>\n",
       "      <td>126.16</td>\n",
       "      <td>123.8500</td>\n",
       "      <td>75169340.0</td>\n",
       "    </tr>\n",
       "    <tr>\n",
       "      <th>1617</th>\n",
       "      <td>07/06/21</td>\n",
       "      <td>125.90</td>\n",
       "      <td>0.9988</td>\n",
       "      <td>0.020</td>\n",
       "      <td>0.869</td>\n",
       "      <td>0.111</td>\n",
       "      <td>0.174406</td>\n",
       "      <td>0.456795</td>\n",
       "      <td>126.17</td>\n",
       "      <td>126.32</td>\n",
       "      <td>124.8321</td>\n",
       "      <td>71057550.0</td>\n",
       "    </tr>\n",
       "    <tr>\n",
       "      <th>1618</th>\n",
       "      <td>08/06/21</td>\n",
       "      <td>126.74</td>\n",
       "      <td>0.9975</td>\n",
       "      <td>0.027</td>\n",
       "      <td>0.873</td>\n",
       "      <td>0.101</td>\n",
       "      <td>0.141016</td>\n",
       "      <td>0.429049</td>\n",
       "      <td>126.60</td>\n",
       "      <td>128.46</td>\n",
       "      <td>126.2101</td>\n",
       "      <td>74403770.0</td>\n",
       "    </tr>\n",
       "    <tr>\n",
       "      <th>1619</th>\n",
       "      <td>09/06/21</td>\n",
       "      <td>127.13</td>\n",
       "      <td>0.9928</td>\n",
       "      <td>0.034</td>\n",
       "      <td>0.889</td>\n",
       "      <td>0.077</td>\n",
       "      <td>0.157241</td>\n",
       "      <td>0.392757</td>\n",
       "      <td>127.21</td>\n",
       "      <td>127.75</td>\n",
       "      <td>126.5200</td>\n",
       "      <td>56877940.0</td>\n",
       "    </tr>\n",
       "  </tbody>\n",
       "</table>\n",
       "</div>"
      ],
      "text/plain": [
       "          Date   Close  compound  negative  neutral  positive  polarity  \\\n",
       "1615  03/06/21  123.54    0.9945     0.042    0.868     0.090  0.116462   \n",
       "1616  04/06/21  125.89    0.9939     0.024    0.902     0.074  0.134752   \n",
       "1617  07/06/21  125.90    0.9988     0.020    0.869     0.111  0.174406   \n",
       "1618  08/06/21  126.74    0.9975     0.027    0.873     0.101  0.141016   \n",
       "1619  09/06/21  127.13    0.9928     0.034    0.889     0.077  0.157241   \n",
       "\n",
       "      subjectivity    Open    High       Low      Volume  \n",
       "1615      0.337818  124.68  124.85  123.1300  76229170.0  \n",
       "1616      0.407989  124.07  126.16  123.8500  75169340.0  \n",
       "1617      0.456795  126.17  126.32  124.8321  71057550.0  \n",
       "1618      0.429049  126.60  128.46  126.2101  74403770.0  \n",
       "1619      0.392757  127.21  127.75  126.5200  56877940.0  "
      ]
     },
     "execution_count": 24,
     "metadata": {
      "tags": []
     },
     "output_type": "execute_result"
    }
   ],
   "source": [
    "df.tail()"
   ]
  },
  {
   "cell_type": "code",
   "execution_count": null,
   "id": "b2f638c1",
   "metadata": {
    "id": "b2f638c1"
   },
   "outputs": [],
   "source": [
    "# writing the prepared stock_data to disk\n",
    "#df.to_csv('stocks data.csv')"
   ]
  },
  {
   "cell_type": "markdown",
   "id": "fd21fa90",
   "metadata": {
    "id": "fd21fa90"
   },
   "source": [
    "_______________________________________________________________________________________________________________________________"
   ]
  },
  {
   "cell_type": "markdown",
   "id": "7e904b39",
   "metadata": {
    "id": "7e904b39"
   },
   "source": [
    "# LSTM"
   ]
  },
  {
   "cell_type": "markdown",
   "id": "6779274d",
   "metadata": {
    "id": "6779274d"
   },
   "source": [
    "### Load the Data"
   ]
  },
  {
   "cell_type": "code",
   "execution_count": null,
   "id": "5330e8e1",
   "metadata": {
    "id": "5330e8e1",
    "outputId": "71e5a3d3-4c3f-488e-fda4-107a3cb8a0c7"
   },
   "outputs": [
    {
     "data": {
      "text/html": [
       "<div>\n",
       "<style scoped>\n",
       "    .dataframe tbody tr th:only-of-type {\n",
       "        vertical-align: middle;\n",
       "    }\n",
       "\n",
       "    .dataframe tbody tr th {\n",
       "        vertical-align: top;\n",
       "    }\n",
       "\n",
       "    .dataframe thead th {\n",
       "        text-align: right;\n",
       "    }\n",
       "</style>\n",
       "<table border=\"1\" class=\"dataframe\">\n",
       "  <thead>\n",
       "    <tr style=\"text-align: right;\">\n",
       "      <th></th>\n",
       "      <th>Close</th>\n",
       "      <th>compound</th>\n",
       "      <th>negative</th>\n",
       "      <th>neutral</th>\n",
       "      <th>positive</th>\n",
       "      <th>polarity</th>\n",
       "      <th>subjectivity</th>\n",
       "      <th>Open</th>\n",
       "      <th>High</th>\n",
       "      <th>Low</th>\n",
       "      <th>Volume</th>\n",
       "    </tr>\n",
       "    <tr>\n",
       "      <th>Date</th>\n",
       "      <th></th>\n",
       "      <th></th>\n",
       "      <th></th>\n",
       "      <th></th>\n",
       "      <th></th>\n",
       "      <th></th>\n",
       "      <th></th>\n",
       "      <th></th>\n",
       "      <th></th>\n",
       "      <th></th>\n",
       "      <th></th>\n",
       "    </tr>\n",
       "  </thead>\n",
       "  <tbody>\n",
       "    <tr>\n",
       "      <th>02-01-2015</th>\n",
       "      <td>27.3325</td>\n",
       "      <td>0.9875</td>\n",
       "      <td>0.041</td>\n",
       "      <td>0.849</td>\n",
       "      <td>0.110</td>\n",
       "      <td>0.140552</td>\n",
       "      <td>0.527698</td>\n",
       "      <td>27.8475</td>\n",
       "      <td>27.8600</td>\n",
       "      <td>26.8375</td>\n",
       "      <td>212575080</td>\n",
       "    </tr>\n",
       "    <tr>\n",
       "      <th>05-01-2015</th>\n",
       "      <td>26.5625</td>\n",
       "      <td>0.9979</td>\n",
       "      <td>0.033</td>\n",
       "      <td>0.807</td>\n",
       "      <td>0.159</td>\n",
       "      <td>0.129695</td>\n",
       "      <td>0.447602</td>\n",
       "      <td>27.0725</td>\n",
       "      <td>27.1625</td>\n",
       "      <td>26.3525</td>\n",
       "      <td>256843520</td>\n",
       "    </tr>\n",
       "    <tr>\n",
       "      <th>06-01-2015</th>\n",
       "      <td>26.5650</td>\n",
       "      <td>0.8779</td>\n",
       "      <td>0.049</td>\n",
       "      <td>0.883</td>\n",
       "      <td>0.068</td>\n",
       "      <td>0.108243</td>\n",
       "      <td>0.347794</td>\n",
       "      <td>26.6350</td>\n",
       "      <td>26.8575</td>\n",
       "      <td>26.1575</td>\n",
       "      <td>262729000</td>\n",
       "    </tr>\n",
       "    <tr>\n",
       "      <th>07-01-2015</th>\n",
       "      <td>26.9375</td>\n",
       "      <td>-0.8225</td>\n",
       "      <td>0.076</td>\n",
       "      <td>0.862</td>\n",
       "      <td>0.062</td>\n",
       "      <td>0.125090</td>\n",
       "      <td>0.410056</td>\n",
       "      <td>26.8000</td>\n",
       "      <td>27.0500</td>\n",
       "      <td>26.6737</td>\n",
       "      <td>159933400</td>\n",
       "    </tr>\n",
       "    <tr>\n",
       "      <th>08-01-2015</th>\n",
       "      <td>27.9725</td>\n",
       "      <td>0.9973</td>\n",
       "      <td>0.039</td>\n",
       "      <td>0.828</td>\n",
       "      <td>0.132</td>\n",
       "      <td>0.136965</td>\n",
       "      <td>0.400757</td>\n",
       "      <td>27.3075</td>\n",
       "      <td>28.0375</td>\n",
       "      <td>27.1750</td>\n",
       "      <td>236675040</td>\n",
       "    </tr>\n",
       "  </tbody>\n",
       "</table>\n",
       "</div>"
      ],
      "text/plain": [
       "              Close  compound  negative  neutral  positive  polarity  \\\n",
       "Date                                                                   \n",
       "02-01-2015  27.3325    0.9875     0.041    0.849     0.110  0.140552   \n",
       "05-01-2015  26.5625    0.9979     0.033    0.807     0.159  0.129695   \n",
       "06-01-2015  26.5650    0.8779     0.049    0.883     0.068  0.108243   \n",
       "07-01-2015  26.9375   -0.8225     0.076    0.862     0.062  0.125090   \n",
       "08-01-2015  27.9725    0.9973     0.039    0.828     0.132  0.136965   \n",
       "\n",
       "            subjectivity     Open     High      Low     Volume  \n",
       "Date                                                            \n",
       "02-01-2015      0.527698  27.8475  27.8600  26.8375  212575080  \n",
       "05-01-2015      0.447602  27.0725  27.1625  26.3525  256843520  \n",
       "06-01-2015      0.347794  26.6350  26.8575  26.1575  262729000  \n",
       "07-01-2015      0.410056  26.8000  27.0500  26.6737  159933400  \n",
       "08-01-2015      0.400757  27.3075  28.0375  27.1750  236675040  "
      ]
     },
     "execution_count": 26,
     "metadata": {
      "tags": []
     },
     "output_type": "execute_result"
    }
   ],
   "source": [
    "stock_data = pd.read_csv('stocks data1.csv', index_col = False)\n",
    "# setting the column 'Date' as the index column)\n",
    "stock_data.set_index('Date', inplace=True)\n",
    "# displaying the stock_data\n",
    "stock_data.head()"
   ]
  },
  {
   "cell_type": "code",
   "execution_count": null,
   "id": "7032a4fa",
   "metadata": {
    "id": "7032a4fa",
    "outputId": "b1e29be1-18d9-478c-8f32-29dfd11529fc"
   },
   "outputs": [
    {
     "data": {
      "text/html": [
       "<div>\n",
       "<style scoped>\n",
       "    .dataframe tbody tr th:only-of-type {\n",
       "        vertical-align: middle;\n",
       "    }\n",
       "\n",
       "    .dataframe tbody tr th {\n",
       "        vertical-align: top;\n",
       "    }\n",
       "\n",
       "    .dataframe thead th {\n",
       "        text-align: right;\n",
       "    }\n",
       "</style>\n",
       "<table border=\"1\" class=\"dataframe\">\n",
       "  <thead>\n",
       "    <tr style=\"text-align: right;\">\n",
       "      <th></th>\n",
       "      <th>Close</th>\n",
       "      <th>compound</th>\n",
       "      <th>negative</th>\n",
       "      <th>neutral</th>\n",
       "      <th>positive</th>\n",
       "      <th>polarity</th>\n",
       "      <th>subjectivity</th>\n",
       "      <th>Open</th>\n",
       "      <th>High</th>\n",
       "      <th>Low</th>\n",
       "      <th>Volume</th>\n",
       "    </tr>\n",
       "    <tr>\n",
       "      <th>Date</th>\n",
       "      <th></th>\n",
       "      <th></th>\n",
       "      <th></th>\n",
       "      <th></th>\n",
       "      <th></th>\n",
       "      <th></th>\n",
       "      <th></th>\n",
       "      <th></th>\n",
       "      <th></th>\n",
       "      <th></th>\n",
       "      <th></th>\n",
       "    </tr>\n",
       "  </thead>\n",
       "  <tbody>\n",
       "    <tr>\n",
       "      <th>03-06-2021</th>\n",
       "      <td>123.54</td>\n",
       "      <td>0.9945</td>\n",
       "      <td>0.042</td>\n",
       "      <td>0.868</td>\n",
       "      <td>0.090</td>\n",
       "      <td>0.116462</td>\n",
       "      <td>0.337818</td>\n",
       "      <td>124.68</td>\n",
       "      <td>124.85</td>\n",
       "      <td>123.1300</td>\n",
       "      <td>76229170</td>\n",
       "    </tr>\n",
       "    <tr>\n",
       "      <th>04-06-2021</th>\n",
       "      <td>125.89</td>\n",
       "      <td>0.9939</td>\n",
       "      <td>0.024</td>\n",
       "      <td>0.902</td>\n",
       "      <td>0.074</td>\n",
       "      <td>0.134752</td>\n",
       "      <td>0.407989</td>\n",
       "      <td>124.07</td>\n",
       "      <td>126.16</td>\n",
       "      <td>123.8500</td>\n",
       "      <td>75169340</td>\n",
       "    </tr>\n",
       "    <tr>\n",
       "      <th>07-06-2021</th>\n",
       "      <td>125.90</td>\n",
       "      <td>0.9988</td>\n",
       "      <td>0.020</td>\n",
       "      <td>0.869</td>\n",
       "      <td>0.111</td>\n",
       "      <td>0.174406</td>\n",
       "      <td>0.456795</td>\n",
       "      <td>126.17</td>\n",
       "      <td>126.32</td>\n",
       "      <td>124.8321</td>\n",
       "      <td>71057550</td>\n",
       "    </tr>\n",
       "    <tr>\n",
       "      <th>08-06-2021</th>\n",
       "      <td>126.74</td>\n",
       "      <td>0.9975</td>\n",
       "      <td>0.027</td>\n",
       "      <td>0.873</td>\n",
       "      <td>0.101</td>\n",
       "      <td>0.141016</td>\n",
       "      <td>0.429049</td>\n",
       "      <td>126.60</td>\n",
       "      <td>128.46</td>\n",
       "      <td>126.2101</td>\n",
       "      <td>74403770</td>\n",
       "    </tr>\n",
       "    <tr>\n",
       "      <th>09-06-2021</th>\n",
       "      <td>127.13</td>\n",
       "      <td>0.9928</td>\n",
       "      <td>0.034</td>\n",
       "      <td>0.889</td>\n",
       "      <td>0.077</td>\n",
       "      <td>0.157241</td>\n",
       "      <td>0.392757</td>\n",
       "      <td>127.21</td>\n",
       "      <td>127.75</td>\n",
       "      <td>126.5200</td>\n",
       "      <td>56877940</td>\n",
       "    </tr>\n",
       "  </tbody>\n",
       "</table>\n",
       "</div>"
      ],
      "text/plain": [
       "             Close  compound  negative  neutral  positive  polarity  \\\n",
       "Date                                                                  \n",
       "03-06-2021  123.54    0.9945     0.042    0.868     0.090  0.116462   \n",
       "04-06-2021  125.89    0.9939     0.024    0.902     0.074  0.134752   \n",
       "07-06-2021  125.90    0.9988     0.020    0.869     0.111  0.174406   \n",
       "08-06-2021  126.74    0.9975     0.027    0.873     0.101  0.141016   \n",
       "09-06-2021  127.13    0.9928     0.034    0.889     0.077  0.157241   \n",
       "\n",
       "            subjectivity    Open    High       Low    Volume  \n",
       "Date                                                          \n",
       "03-06-2021      0.337818  124.68  124.85  123.1300  76229170  \n",
       "04-06-2021      0.407989  124.07  126.16  123.8500  75169340  \n",
       "07-06-2021      0.456795  126.17  126.32  124.8321  71057550  \n",
       "08-06-2021      0.429049  126.60  128.46  126.2101  74403770  \n",
       "09-06-2021      0.392757  127.21  127.75  126.5200  56877940  "
      ]
     },
     "execution_count": 27,
     "metadata": {
      "tags": []
     },
     "output_type": "execute_result"
    }
   ],
   "source": [
    "stock_data.tail()"
   ]
  },
  {
   "cell_type": "markdown",
   "id": "994613d1",
   "metadata": {
    "id": "994613d1"
   },
   "source": [
    "### Feature Engineering of Stock Data"
   ]
  },
  {
   "cell_type": "code",
   "execution_count": null,
   "id": "3ae0929e",
   "metadata": {
    "id": "3ae0929e",
    "outputId": "3de69051-acef-40aa-f4be-23d2556c0fc6"
   },
   "outputs": [
    {
     "data": {
      "text/plain": [
       "(1620, 11)"
      ]
     },
     "execution_count": 28,
     "metadata": {
      "tags": []
     },
     "output_type": "execute_result"
    }
   ],
   "source": [
    "stock_data.shape"
   ]
  },
  {
   "cell_type": "code",
   "execution_count": null,
   "id": "efd81791",
   "metadata": {
    "id": "efd81791",
    "outputId": "7b662164-d02e-41d8-c4a8-5cca1bf18a24"
   },
   "outputs": [
    {
     "data": {
      "text/plain": [
       "Close           False\n",
       "compound        False\n",
       "negative        False\n",
       "neutral         False\n",
       "positive        False\n",
       "polarity        False\n",
       "subjectivity    False\n",
       "Open            False\n",
       "High            False\n",
       "Low             False\n",
       "Volume          False\n",
       "dtype: bool"
      ]
     },
     "execution_count": 29,
     "metadata": {
      "tags": []
     },
     "output_type": "execute_result"
    }
   ],
   "source": [
    "# checking for null values\n",
    "stock_data.isna().any()"
   ]
  },
  {
   "cell_type": "code",
   "execution_count": null,
   "id": "a79d4cf3",
   "metadata": {
    "id": "a79d4cf3",
    "outputId": "d38ad023-ca0d-445f-8ac6-08a491af35da"
   },
   "outputs": [
    {
     "data": {
      "text/html": [
       "<div>\n",
       "<style scoped>\n",
       "    .dataframe tbody tr th:only-of-type {\n",
       "        vertical-align: middle;\n",
       "    }\n",
       "\n",
       "    .dataframe tbody tr th {\n",
       "        vertical-align: top;\n",
       "    }\n",
       "\n",
       "    .dataframe thead th {\n",
       "        text-align: right;\n",
       "    }\n",
       "</style>\n",
       "<table border=\"1\" class=\"dataframe\">\n",
       "  <thead>\n",
       "    <tr style=\"text-align: right;\">\n",
       "      <th></th>\n",
       "      <th>Close</th>\n",
       "      <th>compound</th>\n",
       "      <th>negative</th>\n",
       "      <th>neutral</th>\n",
       "      <th>positive</th>\n",
       "      <th>polarity</th>\n",
       "      <th>subjectivity</th>\n",
       "      <th>Open</th>\n",
       "      <th>High</th>\n",
       "      <th>Low</th>\n",
       "      <th>Volume</th>\n",
       "    </tr>\n",
       "  </thead>\n",
       "  <tbody>\n",
       "    <tr>\n",
       "      <th>count</th>\n",
       "      <td>1620.000000</td>\n",
       "      <td>1620.000000</td>\n",
       "      <td>1620.000000</td>\n",
       "      <td>1620.000000</td>\n",
       "      <td>1620.000000</td>\n",
       "      <td>1620.000000</td>\n",
       "      <td>1620.000000</td>\n",
       "      <td>1620.000000</td>\n",
       "      <td>1620.000000</td>\n",
       "      <td>1620.000000</td>\n",
       "      <td>1.620000e+03</td>\n",
       "    </tr>\n",
       "    <tr>\n",
       "      <th>mean</th>\n",
       "      <td>53.529456</td>\n",
       "      <td>0.717417</td>\n",
       "      <td>0.059323</td>\n",
       "      <td>0.831951</td>\n",
       "      <td>0.108716</td>\n",
       "      <td>0.129418</td>\n",
       "      <td>0.416863</td>\n",
       "      <td>53.512073</td>\n",
       "      <td>54.082343</td>\n",
       "      <td>52.936627</td>\n",
       "      <td>1.423574e+08</td>\n",
       "    </tr>\n",
       "    <tr>\n",
       "      <th>std</th>\n",
       "      <td>31.552340</td>\n",
       "      <td>0.599247</td>\n",
       "      <td>0.027441</td>\n",
       "      <td>0.037628</td>\n",
       "      <td>0.031047</td>\n",
       "      <td>0.065594</td>\n",
       "      <td>0.059917</td>\n",
       "      <td>31.583126</td>\n",
       "      <td>31.994029</td>\n",
       "      <td>31.099052</td>\n",
       "      <td>7.006146e+07</td>\n",
       "    </tr>\n",
       "    <tr>\n",
       "      <th>min</th>\n",
       "      <td>22.585000</td>\n",
       "      <td>-0.999500</td>\n",
       "      <td>0.000000</td>\n",
       "      <td>0.694000</td>\n",
       "      <td>0.000000</td>\n",
       "      <td>-0.133333</td>\n",
       "      <td>0.100000</td>\n",
       "      <td>22.500000</td>\n",
       "      <td>22.917500</td>\n",
       "      <td>22.367500</td>\n",
       "      <td>4.544820e+07</td>\n",
       "    </tr>\n",
       "    <tr>\n",
       "      <th>25%</th>\n",
       "      <td>30.503750</td>\n",
       "      <td>0.900475</td>\n",
       "      <td>0.041000</td>\n",
       "      <td>0.809000</td>\n",
       "      <td>0.088000</td>\n",
       "      <td>0.090451</td>\n",
       "      <td>0.378748</td>\n",
       "      <td>30.525625</td>\n",
       "      <td>30.822500</td>\n",
       "      <td>30.375625</td>\n",
       "      <td>9.447815e+07</td>\n",
       "    </tr>\n",
       "    <tr>\n",
       "      <th>50%</th>\n",
       "      <td>42.795000</td>\n",
       "      <td>0.986250</td>\n",
       "      <td>0.055000</td>\n",
       "      <td>0.834000</td>\n",
       "      <td>0.107000</td>\n",
       "      <td>0.129708</td>\n",
       "      <td>0.417707</td>\n",
       "      <td>42.830000</td>\n",
       "      <td>43.226250</td>\n",
       "      <td>42.449400</td>\n",
       "      <td>1.245709e+08</td>\n",
       "    </tr>\n",
       "    <tr>\n",
       "      <th>75%</th>\n",
       "      <td>60.613125</td>\n",
       "      <td>0.995425</td>\n",
       "      <td>0.074000</td>\n",
       "      <td>0.858000</td>\n",
       "      <td>0.128000</td>\n",
       "      <td>0.170173</td>\n",
       "      <td>0.455677</td>\n",
       "      <td>60.496875</td>\n",
       "      <td>61.350000</td>\n",
       "      <td>59.397500</td>\n",
       "      <td>1.690195e+08</td>\n",
       "    </tr>\n",
       "    <tr>\n",
       "      <th>max</th>\n",
       "      <td>143.160000</td>\n",
       "      <td>0.999600</td>\n",
       "      <td>0.228000</td>\n",
       "      <td>0.974000</td>\n",
       "      <td>0.251000</td>\n",
       "      <td>0.533333</td>\n",
       "      <td>0.733333</td>\n",
       "      <td>143.600000</td>\n",
       "      <td>145.090000</td>\n",
       "      <td>141.370000</td>\n",
       "      <td>6.475300e+08</td>\n",
       "    </tr>\n",
       "  </tbody>\n",
       "</table>\n",
       "</div>"
      ],
      "text/plain": [
       "             Close     compound     negative      neutral     positive  \\\n",
       "count  1620.000000  1620.000000  1620.000000  1620.000000  1620.000000   \n",
       "mean     53.529456     0.717417     0.059323     0.831951     0.108716   \n",
       "std      31.552340     0.599247     0.027441     0.037628     0.031047   \n",
       "min      22.585000    -0.999500     0.000000     0.694000     0.000000   \n",
       "25%      30.503750     0.900475     0.041000     0.809000     0.088000   \n",
       "50%      42.795000     0.986250     0.055000     0.834000     0.107000   \n",
       "75%      60.613125     0.995425     0.074000     0.858000     0.128000   \n",
       "max     143.160000     0.999600     0.228000     0.974000     0.251000   \n",
       "\n",
       "          polarity  subjectivity         Open         High          Low  \\\n",
       "count  1620.000000   1620.000000  1620.000000  1620.000000  1620.000000   \n",
       "mean      0.129418      0.416863    53.512073    54.082343    52.936627   \n",
       "std       0.065594      0.059917    31.583126    31.994029    31.099052   \n",
       "min      -0.133333      0.100000    22.500000    22.917500    22.367500   \n",
       "25%       0.090451      0.378748    30.525625    30.822500    30.375625   \n",
       "50%       0.129708      0.417707    42.830000    43.226250    42.449400   \n",
       "75%       0.170173      0.455677    60.496875    61.350000    59.397500   \n",
       "max       0.533333      0.733333   143.600000   145.090000   141.370000   \n",
       "\n",
       "             Volume  \n",
       "count  1.620000e+03  \n",
       "mean   1.423574e+08  \n",
       "std    7.006146e+07  \n",
       "min    4.544820e+07  \n",
       "25%    9.447815e+07  \n",
       "50%    1.245709e+08  \n",
       "75%    1.690195e+08  \n",
       "max    6.475300e+08  "
      ]
     },
     "execution_count": 30,
     "metadata": {
      "tags": []
     },
     "output_type": "execute_result"
    }
   ],
   "source": [
    "# displaying stock_data statistics\n",
    "stock_data.describe(include='all')"
   ]
  },
  {
   "cell_type": "code",
   "execution_count": null,
   "id": "c5eeb1e6",
   "metadata": {
    "id": "c5eeb1e6",
    "outputId": "43e9df3b-b232-4183-82e9-7cebd5d54b52",
    "scrolled": false
   },
   "outputs": [
    {
     "data": {
      "text/plain": [
       "Text(0, 0.5, 'Close Price USD ($)')"
      ]
     },
     "execution_count": 31,
     "metadata": {
      "tags": []
     },
     "output_type": "execute_result"
    },
    {
     "data": {
      "image/png": "[encoded data removed]",
      "text/plain": [
       "<Figure size 1152x720 with 1 Axes>"
      ]
     },
     "metadata": {
      "tags": []
     },
     "output_type": "display_data"
    }
   ],
   "source": [
    "# setting figure size\n",
    "plt.figure(figsize=(16,10))\n",
    "\n",
    "# plotting close price\n",
    "stock_data['Close'].plot()\n",
    "\n",
    "# setting plot title, x and y labels\n",
    "plt.title('Close Price History', fontsize = 20)\n",
    "plt.xlabel('Date', fontsize = 16, color = 'g')\n",
    "plt.ylabel('Close Price USD ($)', fontsize = 16, color = 'g')"
   ]
  },
  {
   "cell_type": "code",
   "execution_count": null,
   "id": "db781cec",
   "metadata": {
    "id": "db781cec",
    "outputId": "8da21d01-6efe-457c-f545-7917a8f289ed",
    "scrolled": false
   },
   "outputs": [
    {
     "data": {
      "text/html": [
       "<div>\n",
       "<style scoped>\n",
       "    .dataframe tbody tr th:only-of-type {\n",
       "        vertical-align: middle;\n",
       "    }\n",
       "\n",
       "    .dataframe tbody tr th {\n",
       "        vertical-align: top;\n",
       "    }\n",
       "\n",
       "    .dataframe thead th {\n",
       "        text-align: right;\n",
       "    }\n",
       "</style>\n",
       "<table border=\"1\" class=\"dataframe\">\n",
       "  <thead>\n",
       "    <tr style=\"text-align: right;\">\n",
       "      <th></th>\n",
       "      <th>Close</th>\n",
       "      <th>compound</th>\n",
       "      <th>negative</th>\n",
       "      <th>neutral</th>\n",
       "      <th>positive</th>\n",
       "      <th>polarity</th>\n",
       "      <th>subjectivity</th>\n",
       "      <th>Open</th>\n",
       "      <th>High</th>\n",
       "      <th>Low</th>\n",
       "      <th>Volume</th>\n",
       "    </tr>\n",
       "    <tr>\n",
       "      <th>Date</th>\n",
       "      <th></th>\n",
       "      <th></th>\n",
       "      <th></th>\n",
       "      <th></th>\n",
       "      <th></th>\n",
       "      <th></th>\n",
       "      <th></th>\n",
       "      <th></th>\n",
       "      <th></th>\n",
       "      <th></th>\n",
       "      <th></th>\n",
       "    </tr>\n",
       "  </thead>\n",
       "  <tbody>\n",
       "    <tr>\n",
       "      <th>02-01-2015</th>\n",
       "      <td>NaN</td>\n",
       "      <td>NaN</td>\n",
       "      <td>NaN</td>\n",
       "      <td>NaN</td>\n",
       "      <td>NaN</td>\n",
       "      <td>NaN</td>\n",
       "      <td>NaN</td>\n",
       "      <td>NaN</td>\n",
       "      <td>NaN</td>\n",
       "      <td>NaN</td>\n",
       "      <td>NaN</td>\n",
       "    </tr>\n",
       "    <tr>\n",
       "      <th>05-01-2015</th>\n",
       "      <td>NaN</td>\n",
       "      <td>NaN</td>\n",
       "      <td>NaN</td>\n",
       "      <td>NaN</td>\n",
       "      <td>NaN</td>\n",
       "      <td>NaN</td>\n",
       "      <td>NaN</td>\n",
       "      <td>NaN</td>\n",
       "      <td>NaN</td>\n",
       "      <td>NaN</td>\n",
       "      <td>NaN</td>\n",
       "    </tr>\n",
       "    <tr>\n",
       "      <th>06-01-2015</th>\n",
       "      <td>NaN</td>\n",
       "      <td>NaN</td>\n",
       "      <td>NaN</td>\n",
       "      <td>NaN</td>\n",
       "      <td>NaN</td>\n",
       "      <td>NaN</td>\n",
       "      <td>NaN</td>\n",
       "      <td>NaN</td>\n",
       "      <td>NaN</td>\n",
       "      <td>NaN</td>\n",
       "      <td>NaN</td>\n",
       "    </tr>\n",
       "    <tr>\n",
       "      <th>07-01-2015</th>\n",
       "      <td>NaN</td>\n",
       "      <td>NaN</td>\n",
       "      <td>NaN</td>\n",
       "      <td>NaN</td>\n",
       "      <td>NaN</td>\n",
       "      <td>NaN</td>\n",
       "      <td>NaN</td>\n",
       "      <td>NaN</td>\n",
       "      <td>NaN</td>\n",
       "      <td>NaN</td>\n",
       "      <td>NaN</td>\n",
       "    </tr>\n",
       "    <tr>\n",
       "      <th>08-01-2015</th>\n",
       "      <td>NaN</td>\n",
       "      <td>NaN</td>\n",
       "      <td>NaN</td>\n",
       "      <td>NaN</td>\n",
       "      <td>NaN</td>\n",
       "      <td>NaN</td>\n",
       "      <td>NaN</td>\n",
       "      <td>NaN</td>\n",
       "      <td>NaN</td>\n",
       "      <td>NaN</td>\n",
       "      <td>NaN</td>\n",
       "    </tr>\n",
       "    <tr>\n",
       "      <th>09-01-2015</th>\n",
       "      <td>NaN</td>\n",
       "      <td>NaN</td>\n",
       "      <td>NaN</td>\n",
       "      <td>NaN</td>\n",
       "      <td>NaN</td>\n",
       "      <td>NaN</td>\n",
       "      <td>NaN</td>\n",
       "      <td>NaN</td>\n",
       "      <td>NaN</td>\n",
       "      <td>NaN</td>\n",
       "      <td>NaN</td>\n",
       "    </tr>\n",
       "    <tr>\n",
       "      <th>12-01-2015</th>\n",
       "      <td>27.240714</td>\n",
       "      <td>0.718729</td>\n",
       "      <td>0.056429</td>\n",
       "      <td>0.822000</td>\n",
       "      <td>0.121429</td>\n",
       "      <td>0.141867</td>\n",
       "      <td>0.436767</td>\n",
       "      <td>27.425714</td>\n",
       "      <td>27.633929</td>\n",
       "      <td>26.849814</td>\n",
       "      <td>2.202319e+08</td>\n",
       "    </tr>\n",
       "    <tr>\n",
       "      <th>13-01-2015</th>\n",
       "      <td>27.272500</td>\n",
       "      <td>0.720386</td>\n",
       "      <td>0.054286</td>\n",
       "      <td>0.814857</td>\n",
       "      <td>0.130714</td>\n",
       "      <td>0.147467</td>\n",
       "      <td>0.423983</td>\n",
       "      <td>27.427143</td>\n",
       "      <td>27.682500</td>\n",
       "      <td>26.905529</td>\n",
       "      <td>2.281326e+08</td>\n",
       "    </tr>\n",
       "    <tr>\n",
       "      <th>14-01-2015</th>\n",
       "      <td>27.399286</td>\n",
       "      <td>0.714986</td>\n",
       "      <td>0.060714</td>\n",
       "      <td>0.817000</td>\n",
       "      <td>0.122286</td>\n",
       "      <td>0.142224</td>\n",
       "      <td>0.422321</td>\n",
       "      <td>27.453929</td>\n",
       "      <td>27.748214</td>\n",
       "      <td>27.015886</td>\n",
       "      <td>2.192854e+08</td>\n",
       "    </tr>\n",
       "    <tr>\n",
       "      <th>15-01-2015</th>\n",
       "      <td>27.419286</td>\n",
       "      <td>0.719957</td>\n",
       "      <td>0.065143</td>\n",
       "      <td>0.807857</td>\n",
       "      <td>0.127000</td>\n",
       "      <td>0.139704</td>\n",
       "      <td>0.446865</td>\n",
       "      <td>27.577500</td>\n",
       "      <td>27.842143</td>\n",
       "      <td>27.088386</td>\n",
       "      <td>2.159289e+08</td>\n",
       "    </tr>\n",
       "    <tr>\n",
       "      <th>16-01-2015</th>\n",
       "      <td>27.356429</td>\n",
       "      <td>0.978771</td>\n",
       "      <td>0.061000</td>\n",
       "      <td>0.805000</td>\n",
       "      <td>0.134000</td>\n",
       "      <td>0.133689</td>\n",
       "      <td>0.444917</td>\n",
       "      <td>27.571429</td>\n",
       "      <td>27.820000</td>\n",
       "      <td>27.035000</td>\n",
       "      <td>2.379118e+08</td>\n",
       "    </tr>\n",
       "    <tr>\n",
       "      <th>20-01-2015</th>\n",
       "      <td>27.243214</td>\n",
       "      <td>0.978186</td>\n",
       "      <td>0.065714</td>\n",
       "      <td>0.801000</td>\n",
       "      <td>0.133429</td>\n",
       "      <td>0.125684</td>\n",
       "      <td>0.455709</td>\n",
       "      <td>27.521786</td>\n",
       "      <td>27.706314</td>\n",
       "      <td>26.956429</td>\n",
       "      <td>2.325253e+08</td>\n",
       "    </tr>\n",
       "    <tr>\n",
       "      <th>21-01-2015</th>\n",
       "      <td>27.155357</td>\n",
       "      <td>0.977957</td>\n",
       "      <td>0.059286</td>\n",
       "      <td>0.811714</td>\n",
       "      <td>0.129143</td>\n",
       "      <td>0.118521</td>\n",
       "      <td>0.451405</td>\n",
       "      <td>27.388929</td>\n",
       "      <td>27.628100</td>\n",
       "      <td>26.887143</td>\n",
       "      <td>2.295750e+08</td>\n",
       "    </tr>\n",
       "    <tr>\n",
       "      <th>22-01-2015</th>\n",
       "      <td>27.267857</td>\n",
       "      <td>0.969671</td>\n",
       "      <td>0.056857</td>\n",
       "      <td>0.826857</td>\n",
       "      <td>0.116286</td>\n",
       "      <td>0.091634</td>\n",
       "      <td>0.440679</td>\n",
       "      <td>27.305357</td>\n",
       "      <td>27.622386</td>\n",
       "      <td>26.920000</td>\n",
       "      <td>2.319443e+08</td>\n",
       "    </tr>\n",
       "    <tr>\n",
       "      <th>23-01-2015</th>\n",
       "      <td>27.366429</td>\n",
       "      <td>0.969543</td>\n",
       "      <td>0.061571</td>\n",
       "      <td>0.826429</td>\n",
       "      <td>0.111857</td>\n",
       "      <td>0.091910</td>\n",
       "      <td>0.440437</td>\n",
       "      <td>27.336429</td>\n",
       "      <td>27.656314</td>\n",
       "      <td>27.013571</td>\n",
       "      <td>2.202015e+08</td>\n",
       "    </tr>\n",
       "    <tr>\n",
       "      <th>26-01-2015</th>\n",
       "      <td>27.484286</td>\n",
       "      <td>0.975086</td>\n",
       "      <td>0.055429</td>\n",
       "      <td>0.827857</td>\n",
       "      <td>0.116571</td>\n",
       "      <td>0.105216</td>\n",
       "      <td>0.445535</td>\n",
       "      <td>27.504286</td>\n",
       "      <td>27.794629</td>\n",
       "      <td>27.167143</td>\n",
       "      <td>2.240468e+08</td>\n",
       "    </tr>\n",
       "    <tr>\n",
       "      <th>27-01-2015</th>\n",
       "      <td>27.567143</td>\n",
       "      <td>0.986871</td>\n",
       "      <td>0.052000</td>\n",
       "      <td>0.829857</td>\n",
       "      <td>0.118000</td>\n",
       "      <td>0.110141</td>\n",
       "      <td>0.436598</td>\n",
       "      <td>27.590714</td>\n",
       "      <td>27.881057</td>\n",
       "      <td>27.251786</td>\n",
       "      <td>2.426286e+08</td>\n",
       "    </tr>\n",
       "    <tr>\n",
       "      <th>28-01-2015</th>\n",
       "      <td>27.900000</td>\n",
       "      <td>0.988200</td>\n",
       "      <td>0.049571</td>\n",
       "      <td>0.828571</td>\n",
       "      <td>0.121571</td>\n",
       "      <td>0.119091</td>\n",
       "      <td>0.444975</td>\n",
       "      <td>27.969114</td>\n",
       "      <td>28.257486</td>\n",
       "      <td>27.612857</td>\n",
       "      <td>2.813320e+08</td>\n",
       "    </tr>\n",
       "    <tr>\n",
       "      <th>29-01-2015</th>\n",
       "      <td>28.263571</td>\n",
       "      <td>0.988329</td>\n",
       "      <td>0.046000</td>\n",
       "      <td>0.835286</td>\n",
       "      <td>0.118429</td>\n",
       "      <td>0.129208</td>\n",
       "      <td>0.436419</td>\n",
       "      <td>28.271971</td>\n",
       "      <td>28.622600</td>\n",
       "      <td>27.936429</td>\n",
       "      <td>3.009833e+08</td>\n",
       "    </tr>\n",
       "    <tr>\n",
       "      <th>30-01-2015</th>\n",
       "      <td>28.535357</td>\n",
       "      <td>0.988814</td>\n",
       "      <td>0.049571</td>\n",
       "      <td>0.824714</td>\n",
       "      <td>0.125429</td>\n",
       "      <td>0.131247</td>\n",
       "      <td>0.431175</td>\n",
       "      <td>28.609471</td>\n",
       "      <td>28.941886</td>\n",
       "      <td>28.242857</td>\n",
       "      <td>3.210770e+08</td>\n",
       "    </tr>\n",
       "  </tbody>\n",
       "</table>\n",
       "</div>"
      ],
      "text/plain": [
       "                Close  compound  negative   neutral  positive  polarity  \\\n",
       "Date                                                                      \n",
       "02-01-2015        NaN       NaN       NaN       NaN       NaN       NaN   \n",
       "05-01-2015        NaN       NaN       NaN       NaN       NaN       NaN   \n",
       "06-01-2015        NaN       NaN       NaN       NaN       NaN       NaN   \n",
       "07-01-2015        NaN       NaN       NaN       NaN       NaN       NaN   \n",
       "08-01-2015        NaN       NaN       NaN       NaN       NaN       NaN   \n",
       "09-01-2015        NaN       NaN       NaN       NaN       NaN       NaN   \n",
       "12-01-2015  27.240714  0.718729  0.056429  0.822000  0.121429  0.141867   \n",
       "13-01-2015  27.272500  0.720386  0.054286  0.814857  0.130714  0.147467   \n",
       "14-01-2015  27.399286  0.714986  0.060714  0.817000  0.122286  0.142224   \n",
       "15-01-2015  27.419286  0.719957  0.065143  0.807857  0.127000  0.139704   \n",
       "16-01-2015  27.356429  0.978771  0.061000  0.805000  0.134000  0.133689   \n",
       "20-01-2015  27.243214  0.978186  0.065714  0.801000  0.133429  0.125684   \n",
       "21-01-2015  27.155357  0.977957  0.059286  0.811714  0.129143  0.118521   \n",
       "22-01-2015  27.267857  0.969671  0.056857  0.826857  0.116286  0.091634   \n",
       "23-01-2015  27.366429  0.969543  0.061571  0.826429  0.111857  0.091910   \n",
       "26-01-2015  27.484286  0.975086  0.055429  0.827857  0.116571  0.105216   \n",
       "27-01-2015  27.567143  0.986871  0.052000  0.829857  0.118000  0.110141   \n",
       "28-01-2015  27.900000  0.988200  0.049571  0.828571  0.121571  0.119091   \n",
       "29-01-2015  28.263571  0.988329  0.046000  0.835286  0.118429  0.129208   \n",
       "30-01-2015  28.535357  0.988814  0.049571  0.824714  0.125429  0.131247   \n",
       "\n",
       "            subjectivity       Open       High        Low        Volume  \n",
       "Date                                                                     \n",
       "02-01-2015           NaN        NaN        NaN        NaN           NaN  \n",
       "05-01-2015           NaN        NaN        NaN        NaN           NaN  \n",
       "06-01-2015           NaN        NaN        NaN        NaN           NaN  \n",
       "07-01-2015           NaN        NaN        NaN        NaN           NaN  \n",
       "08-01-2015           NaN        NaN        NaN        NaN           NaN  \n",
       "09-01-2015           NaN        NaN        NaN        NaN           NaN  \n",
       "12-01-2015      0.436767  27.425714  27.633929  26.849814  2.202319e+08  \n",
       "13-01-2015      0.423983  27.427143  27.682500  26.905529  2.281326e+08  \n",
       "14-01-2015      0.422321  27.453929  27.748214  27.015886  2.192854e+08  \n",
       "15-01-2015      0.446865  27.577500  27.842143  27.088386  2.159289e+08  \n",
       "16-01-2015      0.444917  27.571429  27.820000  27.035000  2.379118e+08  \n",
       "20-01-2015      0.455709  27.521786  27.706314  26.956429  2.325253e+08  \n",
       "21-01-2015      0.451405  27.388929  27.628100  26.887143  2.295750e+08  \n",
       "22-01-2015      0.440679  27.305357  27.622386  26.920000  2.319443e+08  \n",
       "23-01-2015      0.440437  27.336429  27.656314  27.013571  2.202015e+08  \n",
       "26-01-2015      0.445535  27.504286  27.794629  27.167143  2.240468e+08  \n",
       "27-01-2015      0.436598  27.590714  27.881057  27.251786  2.426286e+08  \n",
       "28-01-2015      0.444975  27.969114  28.257486  27.612857  2.813320e+08  \n",
       "29-01-2015      0.436419  28.271971  28.622600  27.936429  3.009833e+08  \n",
       "30-01-2015      0.431175  28.609471  28.941886  28.242857  3.210770e+08  "
      ]
     },
     "execution_count": 32,
     "metadata": {
      "tags": []
     },
     "output_type": "execute_result"
    }
   ],
   "source": [
    "# calculating 7 day rolling mean\n",
    "stock_data.rolling(7).mean().head(20)"
   ]
  },
  {
   "cell_type": "code",
   "execution_count": null,
   "id": "cf25eb98",
   "metadata": {
    "id": "cf25eb98",
    "outputId": "73f83ec3-b4f1-456b-d352-f25ae6fd6b54",
    "scrolled": false
   },
   "outputs": [
    {
     "data": {
      "text/plain": [
       "<AxesSubplot:xlabel='Date'>"
      ]
     },
     "execution_count": 33,
     "metadata": {
      "tags": []
     },
     "output_type": "execute_result"
    },
    {
     "data": {
      "image/png": "[encoded data removed]",
      "text/plain": [
       "<Figure size 1152x720 with 1 Axes>"
      ]
     },
     "metadata": {
      "tags": []
     },
     "output_type": "display_data"
    }
   ],
   "source": [
    "# setting figure size\n",
    "plt.figure(figsize=(16,10))\n",
    "\n",
    "# plotting the close price and a 30-day rolling mean of close price\n",
    "stock_data['Close'].plot()\n",
    "stock_data.rolling(window=30).mean()['Close'].plot()"
   ]
  },
  {
   "cell_type": "markdown",
   "id": "49733b7e",
   "metadata": {
    "id": "49733b7e"
   },
   "source": [
    "### Data Preparation for Modelling"
   ]
  },
  {
   "cell_type": "code",
   "execution_count": null,
   "id": "8534cfe1",
   "metadata": {
    "id": "8534cfe1",
    "outputId": "14b418ea-ab41-4c7d-919b-540a28a34001"
   },
   "outputs": [
    {
     "name": "stdout",
     "output_type": "stream",
     "text": [
      "Close Price:\n"
     ]
    },
    {
     "data": {
      "text/plain": [
       "Date\n",
       "02-01-2015     27.3325\n",
       "05-01-2015     26.5625\n",
       "06-01-2015     26.5650\n",
       "07-01-2015     26.9375\n",
       "08-01-2015     27.9725\n",
       "                ...   \n",
       "03-06-2021    123.5400\n",
       "04-06-2021    125.8900\n",
       "07-06-2021    125.9000\n",
       "08-06-2021    126.7400\n",
       "09-06-2021    127.1300\n",
       "Name: Close, Length: 1620, dtype: float64"
      ]
     },
     "execution_count": 34,
     "metadata": {
      "tags": []
     },
     "output_type": "execute_result"
    }
   ],
   "source": [
    "# capturing data to be used for each column\n",
    "close_price = stock_data.iloc[:,0] #close\n",
    "\n",
    "# printing close price\n",
    "print(\"Close Price:\")\n",
    "close_price"
   ]
  },
  {
   "cell_type": "code",
   "execution_count": null,
   "id": "a97550f1",
   "metadata": {
    "id": "a97550f1",
    "outputId": "a8c4f3af-3619-43ef-c435-12c06069e913"
   },
   "outputs": [
    {
     "data": {
      "text/html": [
       "<div>\n",
       "<style scoped>\n",
       "    .dataframe tbody tr th:only-of-type {\n",
       "        vertical-align: middle;\n",
       "    }\n",
       "\n",
       "    .dataframe tbody tr th {\n",
       "        vertical-align: top;\n",
       "    }\n",
       "\n",
       "    .dataframe thead th {\n",
       "        text-align: right;\n",
       "    }\n",
       "</style>\n",
       "<table border=\"1\" class=\"dataframe\">\n",
       "  <thead>\n",
       "    <tr style=\"text-align: right;\">\n",
       "      <th></th>\n",
       "      <th>close_price</th>\n",
       "    </tr>\n",
       "    <tr>\n",
       "      <th>Date</th>\n",
       "      <th></th>\n",
       "    </tr>\n",
       "  </thead>\n",
       "  <tbody>\n",
       "    <tr>\n",
       "      <th>12-05-2021</th>\n",
       "      <td>122.77</td>\n",
       "    </tr>\n",
       "    <tr>\n",
       "      <th>13-05-2021</th>\n",
       "      <td>124.97</td>\n",
       "    </tr>\n",
       "    <tr>\n",
       "      <th>14-05-2021</th>\n",
       "      <td>127.45</td>\n",
       "    </tr>\n",
       "    <tr>\n",
       "      <th>17-05-2021</th>\n",
       "      <td>126.27</td>\n",
       "    </tr>\n",
       "    <tr>\n",
       "      <th>18-05-2021</th>\n",
       "      <td>124.85</td>\n",
       "    </tr>\n",
       "    <tr>\n",
       "      <th>19-05-2021</th>\n",
       "      <td>124.69</td>\n",
       "    </tr>\n",
       "    <tr>\n",
       "      <th>20-05-2021</th>\n",
       "      <td>127.31</td>\n",
       "    </tr>\n",
       "    <tr>\n",
       "      <th>21-05-2021</th>\n",
       "      <td>125.43</td>\n",
       "    </tr>\n",
       "    <tr>\n",
       "      <th>24-05-2021</th>\n",
       "      <td>127.10</td>\n",
       "    </tr>\n",
       "    <tr>\n",
       "      <th>25-05-2021</th>\n",
       "      <td>126.90</td>\n",
       "    </tr>\n",
       "    <tr>\n",
       "      <th>26-05-2021</th>\n",
       "      <td>126.85</td>\n",
       "    </tr>\n",
       "    <tr>\n",
       "      <th>27-05-2021</th>\n",
       "      <td>125.28</td>\n",
       "    </tr>\n",
       "    <tr>\n",
       "      <th>28-05-2021</th>\n",
       "      <td>124.61</td>\n",
       "    </tr>\n",
       "    <tr>\n",
       "      <th>01-06-2021</th>\n",
       "      <td>124.28</td>\n",
       "    </tr>\n",
       "    <tr>\n",
       "      <th>02-06-2021</th>\n",
       "      <td>125.06</td>\n",
       "    </tr>\n",
       "    <tr>\n",
       "      <th>03-06-2021</th>\n",
       "      <td>123.54</td>\n",
       "    </tr>\n",
       "    <tr>\n",
       "      <th>04-06-2021</th>\n",
       "      <td>125.89</td>\n",
       "    </tr>\n",
       "    <tr>\n",
       "      <th>07-06-2021</th>\n",
       "      <td>125.90</td>\n",
       "    </tr>\n",
       "    <tr>\n",
       "      <th>08-06-2021</th>\n",
       "      <td>126.74</td>\n",
       "    </tr>\n",
       "    <tr>\n",
       "      <th>09-06-2021</th>\n",
       "      <td>127.13</td>\n",
       "    </tr>\n",
       "  </tbody>\n",
       "</table>\n",
       "</div>"
      ],
      "text/plain": [
       "            close_price\n",
       "Date                   \n",
       "12-05-2021       122.77\n",
       "13-05-2021       124.97\n",
       "14-05-2021       127.45\n",
       "17-05-2021       126.27\n",
       "18-05-2021       124.85\n",
       "19-05-2021       124.69\n",
       "20-05-2021       127.31\n",
       "21-05-2021       125.43\n",
       "24-05-2021       127.10\n",
       "25-05-2021       126.90\n",
       "26-05-2021       126.85\n",
       "27-05-2021       125.28\n",
       "28-05-2021       124.61\n",
       "01-06-2021       124.28\n",
       "02-06-2021       125.06\n",
       "03-06-2021       123.54\n",
       "04-06-2021       125.89\n",
       "07-06-2021       125.90\n",
       "08-06-2021       126.74\n",
       "09-06-2021       127.13"
      ]
     },
     "execution_count": 35,
     "metadata": {
      "tags": []
     },
     "output_type": "execute_result"
    }
   ],
   "source": [
    "# concatenating the captured training data into a dataframe\n",
    "need_data = pd.concat([close_price], axis=1)\n",
    "\n",
    "# setting column names of the revised stock data\n",
    "need_data.columns = ['close_price']  \n",
    "need_data.tail(20)"
   ]
  },
  {
   "cell_type": "code",
   "execution_count": null,
   "id": "4f2c2269",
   "metadata": {
    "id": "4f2c2269"
   },
   "outputs": [],
   "source": [
    "# Convert the dataframe to a numpy array\n",
    "dataset = need_data.values"
   ]
  },
  {
   "cell_type": "code",
   "execution_count": null,
   "id": "c6c2e1fe",
   "metadata": {
    "id": "c6c2e1fe",
    "outputId": "563e8f25-ff90-4772-a13b-c58eac6705ce"
   },
   "outputs": [
    {
     "data": {
      "text/plain": [
       "1296"
      ]
     },
     "execution_count": 37,
     "metadata": {
      "tags": []
     },
     "output_type": "execute_result"
    }
   ],
   "source": [
    "# Get the number of rows to train the model on\n",
    "training_data_len = math.ceil(len(dataset)*.8)\n",
    "training_data_len"
   ]
  },
  {
   "cell_type": "markdown",
   "id": "53475d61",
   "metadata": {
    "id": "53475d61"
   },
   "source": [
    "### Scaling the Target Variable and the Feature Dataset"
   ]
  },
  {
   "cell_type": "code",
   "execution_count": null,
   "id": "4512840d",
   "metadata": {
    "id": "4512840d",
    "outputId": "71b55c86-aa66-4acb-a364-43fa34f9c22b",
    "scrolled": false
   },
   "outputs": [
    {
     "name": "stdout",
     "output_type": "stream",
     "text": [
      "[[0.03937383]\n",
      " [0.03298777]\n",
      " [0.0330085 ]\n",
      " ...\n",
      " [0.85685258]\n",
      " [0.8638192 ]\n",
      " [0.8670537 ]]\n"
     ]
    }
   ],
   "source": [
    "# Scaling the data\n",
    "scaler = MinMaxScaler(feature_range=(0,1))\n",
    "scaled_data = scaler.fit_transform(dataset)\n",
    "\n",
    "print(scaled_data)"
   ]
  },
  {
   "cell_type": "code",
   "execution_count": null,
   "id": "fd0115b9",
   "metadata": {
    "id": "fd0115b9",
    "outputId": "8aa3220c-be53-40b7-f688-c54c4c668008"
   },
   "outputs": [
    {
     "name": "stdout",
     "output_type": "stream",
     "text": [
      "[array([[0.03937383],\n",
      "       [0.03298777],\n",
      "       [0.0330085 ],\n",
      "       [0.03609786],\n",
      "       [0.04468173],\n",
      "       [0.04493054],\n",
      "       [0.03920796],\n",
      "       [0.04121916],\n",
      "       [0.04034833],\n",
      "       [0.0341696 ],\n",
      "       [0.03244868],\n",
      "       [0.03810906],\n",
      "       [0.03982998],\n",
      "       [0.04573917],\n",
      "       [0.04694174],\n",
      "       [0.04719055],\n",
      "       [0.03897989],\n",
      "       [0.05177276],\n",
      "       [0.05921626],\n",
      "       [0.05560854]])]\n",
      "[0.0586564379017209]\n",
      "\n"
     ]
    }
   ],
   "source": [
    "# Create the training data set\n",
    "train_data = scaled_data[0:training_data_len , :]\n",
    "\n",
    "# Split the data into x_train and y_train data sets\n",
    "x_train = []\n",
    "y_train = []\n",
    "past_days = 20\n",
    "for i in range(past_days, len(train_data)):\n",
    "    x_train.append(train_data[i-past_days:i, :])\n",
    "    y_train.append(train_data[i, 0])\n",
    "    if i<= past_days:\n",
    "        print(x_train)\n",
    "        print(y_train)\n",
    "        print()"
   ]
  },
  {
   "cell_type": "code",
   "execution_count": null,
   "id": "8b600b2c",
   "metadata": {
    "id": "8b600b2c"
   },
   "outputs": [],
   "source": [
    "# Convert the x_train and y_train to numpy arrays\n",
    "x_train, y_train = np.array(x_train), np.array(y_train)"
   ]
  },
  {
   "cell_type": "markdown",
   "id": "8ab5787b",
   "metadata": {
    "id": "8ab5787b"
   },
   "source": [
    "### Reshaping the Feature Dataset"
   ]
  },
  {
   "cell_type": "code",
   "execution_count": null,
   "id": "4bc54c71",
   "metadata": {
    "id": "4bc54c71",
    "outputId": "48ca3b48-79a9-430b-ab84-de5fecbcde5d"
   },
   "outputs": [
    {
     "data": {
      "text/plain": [
       "array([[[0.03937383],\n",
       "        [0.03298777],\n",
       "        [0.0330085 ],\n",
       "        ...,\n",
       "        [0.05177276],\n",
       "        [0.05921626],\n",
       "        [0.05560854]],\n",
       "\n",
       "       [[0.03298777],\n",
       "        [0.0330085 ],\n",
       "        [0.03609786],\n",
       "        ...,\n",
       "        [0.05921626],\n",
       "        [0.05560854],\n",
       "        [0.05865644]],\n",
       "\n",
       "       [[0.0330085 ],\n",
       "        [0.03609786],\n",
       "        [0.04468173],\n",
       "        ...,\n",
       "        [0.05560854],\n",
       "        [0.05865644],\n",
       "        [0.05869791]],\n",
       "\n",
       "       ...,\n",
       "\n",
       "       [[0.47267261],\n",
       "        [0.4532656 ],\n",
       "        [0.4713871 ],\n",
       "        ...,\n",
       "        [0.48368236],\n",
       "        [0.47679867],\n",
       "        [0.46176654]],\n",
       "\n",
       "       [[0.4532656 ],\n",
       "        [0.4713871 ],\n",
       "        [0.4851752 ],\n",
       "        ...,\n",
       "        [0.47679867],\n",
       "        [0.46176654],\n",
       "        [0.4309351 ]],\n",
       "\n",
       "       [[0.4713871 ],\n",
       "        [0.4851752 ],\n",
       "        [0.4842007 ],\n",
       "        ...,\n",
       "        [0.46176654],\n",
       "        [0.4309351 ],\n",
       "        [0.40999378]]])"
      ]
     },
     "execution_count": 41,
     "metadata": {
      "tags": []
     },
     "output_type": "execute_result"
    }
   ],
   "source": [
    "# Reshape the data\n",
    "x_train = np.reshape(x_train, (x_train.shape[0], x_train.shape[1], 1))\n",
    "x_train\n"
   ]
  },
  {
   "cell_type": "code",
   "execution_count": null,
   "id": "ffed4a8c",
   "metadata": {
    "id": "ffed4a8c",
    "outputId": "4ab84190-d05c-4bb9-ffa8-85c1a30ff20f"
   },
   "outputs": [
    {
     "name": "stdout",
     "output_type": "stream",
     "text": [
      "(1276, 20, 1)\n",
      "(1276,)\n"
     ]
    }
   ],
   "source": [
    "print(x_train.shape)\n",
    "print(y_train.shape)"
   ]
  },
  {
   "cell_type": "markdown",
   "id": "6ec1552b",
   "metadata": {
    "id": "6ec1552b"
   },
   "source": [
    "### Stock Data Modelling"
   ]
  },
  {
   "cell_type": "code",
   "execution_count": null,
   "id": "a0ed6b04",
   "metadata": {
    "id": "a0ed6b04",
    "outputId": "48f108af-6b99-4f9f-a736-6f8077af2ba1"
   },
   "outputs": [
    {
     "name": "stdout",
     "output_type": "stream",
     "text": [
      "Model: \"sequential\"\n",
      "_________________________________________________________________\n",
      "Layer (type)                 Output Shape              Param #   \n",
      "=================================================================\n",
      "lstm (LSTM)                  (None, 20, 160)           103680    \n",
      "_________________________________________________________________\n",
      "dropout (Dropout)            (None, 20, 160)           0         \n",
      "_________________________________________________________________\n",
      "lstm_1 (LSTM)                (None, 80)                77120     \n",
      "_________________________________________________________________\n",
      "dense (Dense)                (None, 60)                4860      \n",
      "_________________________________________________________________\n",
      "dense_1 (Dense)              (None, 1)                 61        \n",
      "=================================================================\n",
      "Total params: 185,721\n",
      "Trainable params: 185,721\n",
      "Non-trainable params: 0\n",
      "_________________________________________________________________\n"
     ]
    }
   ],
   "source": [
    "# Build the LSTM model\n",
    "model = Sequential()\n",
    "model.add(LSTM(160, return_sequences=True, activation = \"tanh\", input_shape= (x_train.shape[1], 1)))\n",
    "model.add(Dropout(0.2))\n",
    "model.add(LSTM(80, return_sequences= False, activation = \"tanh\"))\n",
    "model.add(Dense(60))\n",
    "model.add(Dense(1))\n",
    "\n",
    "model.summary()"
   ]
  },
  {
   "cell_type": "code",
   "execution_count": null,
   "id": "762ec0ca",
   "metadata": {
    "id": "762ec0ca"
   },
   "outputs": [],
   "source": [
    "# Compile the model\n",
    "model.compile(optimizer='adam', loss='mean_squared_error')"
   ]
  },
  {
   "cell_type": "code",
   "execution_count": null,
   "id": "102cc195",
   "metadata": {
    "id": "102cc195",
    "outputId": "ec83e222-57df-492f-a668-0375886c7ae4"
   },
   "outputs": [
    {
     "name": "stdout",
     "output_type": "stream",
     "text": [
      "Epoch 1/100\n",
      "16/16 [==============================] - 18s 132ms/step - loss: 0.0054 - val_loss: 4.7715e-04\n",
      "Epoch 2/100\n",
      "16/16 [==============================] - 1s 64ms/step - loss: 4.5749e-04 - val_loss: 8.9174e-04\n",
      "Epoch 3/100\n",
      "16/16 [==============================] - 1s 65ms/step - loss: 2.2051e-04 - val_loss: 5.9146e-04\n",
      "Epoch 4/100\n",
      "16/16 [==============================] - 1s 62ms/step - loss: 1.4596e-04 - val_loss: 2.6190e-04\n",
      "Epoch 5/100\n",
      "16/16 [==============================] - 1s 61ms/step - loss: 1.2164e-04 - val_loss: 2.7382e-04\n",
      "Epoch 6/100\n",
      "16/16 [==============================] - 1s 64ms/step - loss: 1.0358e-04 - val_loss: 3.4983e-04\n",
      "Epoch 7/100\n",
      "16/16 [==============================] - 1s 61ms/step - loss: 1.1660e-04 - val_loss: 2.5508e-04\n",
      "Epoch 8/100\n",
      "16/16 [==============================] - 1s 61ms/step - loss: 1.0658e-04 - val_loss: 3.1587e-04\n",
      "Epoch 9/100\n",
      "16/16 [==============================] - 1s 62ms/step - loss: 1.0792e-04 - val_loss: 3.6095e-04\n",
      "Epoch 10/100\n",
      "16/16 [==============================] - 1s 61ms/step - loss: 1.0486e-04 - val_loss: 1.9593e-04\n",
      "Epoch 11/100\n",
      "16/16 [==============================] - 1s 63ms/step - loss: 1.0103e-04 - val_loss: 2.4552e-04\n",
      "Epoch 12/100\n",
      "16/16 [==============================] - 1s 62ms/step - loss: 8.9393e-05 - val_loss: 2.2029e-04\n",
      "Epoch 13/100\n",
      "16/16 [==============================] - 1s 66ms/step - loss: 9.2513e-05 - val_loss: 2.0663e-04\n",
      "Epoch 14/100\n",
      "16/16 [==============================] - 1s 62ms/step - loss: 8.2832e-05 - val_loss: 1.7573e-04\n",
      "Epoch 15/100\n",
      "16/16 [==============================] - 1s 61ms/step - loss: 8.8716e-05 - val_loss: 2.8937e-04\n",
      "Epoch 16/100\n",
      "16/16 [==============================] - 1s 61ms/step - loss: 8.7411e-05 - val_loss: 4.2230e-04\n",
      "Epoch 17/100\n",
      "16/16 [==============================] - 1s 62ms/step - loss: 8.2140e-05 - val_loss: 2.0842e-04\n",
      "Epoch 18/100\n",
      "16/16 [==============================] - 1s 66ms/step - loss: 8.6184e-05 - val_loss: 1.8044e-04\n",
      "Epoch 19/100\n",
      "16/16 [==============================] - 1s 59ms/step - loss: 7.5966e-05 - val_loss: 1.5156e-04\n",
      "Epoch 20/100\n",
      "16/16 [==============================] - 1s 63ms/step - loss: 8.6515e-05 - val_loss: 3.2620e-04\n",
      "Epoch 21/100\n",
      "16/16 [==============================] - 1s 58ms/step - loss: 7.6507e-05 - val_loss: 2.5009e-04\n",
      "Epoch 22/100\n",
      "16/16 [==============================] - 1s 60ms/step - loss: 8.0460e-05 - val_loss: 2.2656e-04\n",
      "Epoch 23/100\n",
      "16/16 [==============================] - 1s 65ms/step - loss: 6.6939e-05 - val_loss: 3.6568e-04\n",
      "Epoch 24/100\n",
      "16/16 [==============================] - 1s 66ms/step - loss: 8.4094e-05 - val_loss: 1.4283e-04\n",
      "Epoch 25/100\n",
      "16/16 [==============================] - 1s 70ms/step - loss: 6.3299e-05 - val_loss: 2.0424e-04\n",
      "Epoch 26/100\n",
      "16/16 [==============================] - 1s 66ms/step - loss: 6.5463e-05 - val_loss: 1.2879e-04\n",
      "Epoch 27/100\n",
      "16/16 [==============================] - 1s 64ms/step - loss: 7.2485e-05 - val_loss: 1.3943e-04\n",
      "Epoch 28/100\n",
      "16/16 [==============================] - 1s 65ms/step - loss: 6.5554e-05 - val_loss: 1.6118e-04\n",
      "Epoch 29/100\n",
      "16/16 [==============================] - 1s 64ms/step - loss: 5.6757e-05 - val_loss: 2.1591e-04\n",
      "Epoch 30/100\n",
      "16/16 [==============================] - 1s 68ms/step - loss: 7.1419e-05 - val_loss: 1.9476e-04\n",
      "Epoch 31/100\n",
      "16/16 [==============================] - 1s 65ms/step - loss: 6.5044e-05 - val_loss: 1.9230e-04\n",
      "Epoch 00031: early stopping\n"
     ]
    }
   ],
   "source": [
    "# Train the model\n",
    "from keras.callbacks import EarlyStopping\n",
    "early_stop = EarlyStopping(monitor = 'val_loss', mode = 'min',verbose = 1,patience = 5)\n",
    "\n",
    "history = model.fit(x_train, y_train, batch_size = 64, epochs = 100, verbose = 1, validation_split = 0.2, callbacks = [early_stop])"
   ]
  },
  {
   "cell_type": "code",
   "execution_count": null,
   "id": "20861000",
   "metadata": {
    "id": "20861000",
    "outputId": "a1e48c8c-aaff-4be5-9edc-c1947fc43fc0"
   },
   "outputs": [
    {
     "data": {
      "text/plain": [
       "<AxesSubplot:>"
      ]
     },
     "execution_count": 46,
     "metadata": {
      "tags": []
     },
     "output_type": "execute_result"
    },
    {
     "data": {
      "image/png": "[encoded data removed]",
      "text/plain": [
       "<Figure size 576x396 with 1 Axes>"
      ]
     },
     "metadata": {
      "tags": []
     },
     "output_type": "display_data"
    }
   ],
   "source": [
    "# Plotting loss\n",
    "loss = pd.DataFrame(model.history.history)\n",
    "loss.plot()"
   ]
  },
  {
   "cell_type": "code",
   "execution_count": null,
   "id": "5cfc8998",
   "metadata": {
    "id": "5cfc8998"
   },
   "outputs": [],
   "source": [
    "# Create the testing data set\n",
    "test_data = scaled_data[training_data_len - past_days: , :]\n",
    "\n",
    "# Create the data sets x_test and y_test\n",
    "x_test = []\n",
    "y_test = dataset[training_data_len:, 0]\n",
    "for i in range(past_days, len(test_data)):\n",
    "    x_test.append(test_data[i-past_days:i, :])"
   ]
  },
  {
   "cell_type": "code",
   "execution_count": null,
   "id": "334dc73e",
   "metadata": {
    "id": "334dc73e"
   },
   "outputs": [],
   "source": [
    "# Convert the data to a numpy array\n",
    "x_test = np.array(x_test)"
   ]
  },
  {
   "cell_type": "code",
   "execution_count": null,
   "id": "5f874c8b",
   "metadata": {
    "id": "5f874c8b"
   },
   "outputs": [],
   "source": [
    "# Reshape the data\n",
    "x_test = np.reshape(x_test, (x_test.shape[0], x_test.shape[1], 1))"
   ]
  },
  {
   "cell_type": "markdown",
   "id": "df7191a2",
   "metadata": {
    "id": "df7191a2"
   },
   "source": [
    "### Prediction"
   ]
  },
  {
   "cell_type": "code",
   "execution_count": null,
   "id": "bcbb2f3b",
   "metadata": {
    "id": "bcbb2f3b"
   },
   "outputs": [],
   "source": [
    "# Get the models predicted price values\n",
    "predictions = model.predict(x_test)\n",
    "predictions = scaler.inverse_transform(predictions)"
   ]
  },
  {
   "cell_type": "code",
   "execution_count": null,
   "id": "611d7c4f",
   "metadata": {
    "id": "611d7c4f",
    "outputId": "c32735d9-76a5-43f8-e7c0-7e529bbbcc76",
    "scrolled": false
   },
   "outputs": [
    {
     "data": {
      "text/plain": [
       "array([[ 74.11729 ],\n",
       "       [ 72.024605],\n",
       "       [ 69.96992 ],\n",
       "       [ 69.12897 ],\n",
       "       [ 68.83574 ],\n",
       "       [ 69.39032 ],\n",
       "       [ 70.070625],\n",
       "       [ 70.60385 ],\n",
       "       [ 70.19129 ],\n",
       "       [ 69.899506],\n",
       "       [ 69.381004],\n",
       "       [ 67.84586 ],\n",
       "       [ 66.92287 ],\n",
       "       [ 65.274315],\n",
       "       [ 63.78242 ],\n",
       "       [ 62.370464],\n",
       "       [ 61.153576],\n",
       "       [ 59.70604 ],\n",
       "       [ 58.166344],\n",
       "       [ 57.559235],\n",
       "       [ 57.568798],\n",
       "       [ 58.449684],\n",
       "       [ 59.37935 ],\n",
       "       [ 60.42129 ],\n",
       "       [ 61.403767],\n",
       "       [ 61.722775],\n",
       "       [ 61.738644],\n",
       "       [ 61.431595],\n",
       "       [ 61.714172],\n",
       "       [ 62.176422],\n",
       "       [ 62.946808],\n",
       "       [ 63.897438],\n",
       "       [ 64.94408 ],\n",
       "       [ 66.45296 ],\n",
       "       [ 67.90348 ],\n",
       "       [ 69.20773 ],\n",
       "       [ 70.094894],\n",
       "       [ 70.407776],\n",
       "       [ 70.00914 ],\n",
       "       [ 69.44627 ],\n",
       "       [ 68.837975],\n",
       "       [ 68.541   ],\n",
       "       [ 68.51368 ],\n",
       "       [ 68.48437 ],\n",
       "       [ 68.78199 ],\n",
       "       [ 69.47146 ],\n",
       "       [ 70.13251 ],\n",
       "       [ 70.83512 ],\n",
       "       [ 71.58412 ],\n",
       "       [ 72.38435 ],\n",
       "       [ 73.199   ],\n",
       "       [ 74.13039 ],\n",
       "       [ 75.16438 ],\n",
       "       [ 75.97437 ],\n",
       "       [ 76.41139 ],\n",
       "       [ 76.607956],\n",
       "       [ 76.56424 ],\n",
       "       [ 76.628975],\n",
       "       [ 76.69316 ],\n",
       "       [ 76.94133 ],\n",
       "       [ 77.1938  ],\n",
       "       [ 77.47274 ],\n",
       "       [ 77.65919 ],\n",
       "       [ 77.81567 ],\n",
       "       [ 77.918434],\n",
       "       [ 77.96112 ],\n",
       "       [ 78.107185],\n",
       "       [ 78.338715],\n",
       "       [ 78.65056 ],\n",
       "       [ 78.870865],\n",
       "       [ 79.31969 ],\n",
       "       [ 79.90726 ],\n",
       "       [ 80.86305 ],\n",
       "       [ 82.22833 ],\n",
       "       [ 83.06802 ],\n",
       "       [ 83.55633 ],\n",
       "       [ 83.89739 ],\n",
       "       [ 84.39693 ],\n",
       "       [ 84.911644],\n",
       "       [ 85.35627 ],\n",
       "       [ 85.62935 ],\n",
       "       [ 86.06686 ],\n",
       "       [ 86.81104 ],\n",
       "       [ 87.40972 ],\n",
       "       [ 88.000496],\n",
       "       [ 88.10772 ],\n",
       "       [ 88.17571 ],\n",
       "       [ 88.309105],\n",
       "       [ 88.43764 ],\n",
       "       [ 88.55019 ],\n",
       "       [ 88.95992 ],\n",
       "       [ 89.4584  ],\n",
       "       [ 90.232   ],\n",
       "       [ 91.10753 ],\n",
       "       [ 91.9853  ],\n",
       "       [ 92.65689 ],\n",
       "       [ 93.31836 ],\n",
       "       [ 93.95695 ],\n",
       "       [ 94.32684 ],\n",
       "       [ 94.44655 ],\n",
       "       [ 94.674515],\n",
       "       [ 94.72724 ],\n",
       "       [ 94.69852 ],\n",
       "       [ 94.01758 ],\n",
       "       [ 92.98635 ],\n",
       "       [ 92.20496 ],\n",
       "       [ 91.45079 ],\n",
       "       [ 91.07956 ],\n",
       "       [ 91.16548 ],\n",
       "       [ 92.934074],\n",
       "       [ 95.85523 ],\n",
       "       [ 99.19531 ],\n",
       "       [102.359505],\n",
       "       [105.49406 ],\n",
       "       [107.74909 ],\n",
       "       [109.35348 ],\n",
       "       [109.8204  ],\n",
       "       [110.011955],\n",
       "       [110.26746 ],\n",
       "       [110.49422 ],\n",
       "       [110.60903 ],\n",
       "       [110.77852 ],\n",
       "       [110.963234],\n",
       "       [111.51164 ],\n",
       "       [113.03967 ],\n",
       "       [115.139114],\n",
       "       [117.16104 ],\n",
       "       [119.06508 ],\n",
       "       [120.39585 ],\n",
       "       [121.0931  ],\n",
       "       [121.89559 ],\n",
       "       [123.34916 ],\n",
       "       [124.58587 ],\n",
       "       [124.018555],\n",
       "       [122.469826],\n",
       "       [119.35869 ],\n",
       "       [116.391205],\n",
       "       [113.35605 ],\n",
       "       [110.52779 ],\n",
       "       [108.72546 ],\n",
       "       [107.85624 ],\n",
       "       [107.23067 ],\n",
       "       [106.62471 ],\n",
       "       [105.63149 ],\n",
       "       [104.98537 ],\n",
       "       [104.90377 ],\n",
       "       [104.54904 ],\n",
       "       [104.23545 ],\n",
       "       [104.57512 ],\n",
       "       [105.641525],\n",
       "       [106.86296 ],\n",
       "       [108.236374],\n",
       "       [109.66908 ],\n",
       "       [110.44654 ],\n",
       "       [111.15751 ],\n",
       "       [111.284454],\n",
       "       [111.24827 ],\n",
       "       [111.12365 ],\n",
       "       [111.23324 ],\n",
       "       [112.48189 ],\n",
       "       [113.789085],\n",
       "       [114.98618 ],\n",
       "       [115.86647 ],\n",
       "       [116.19372 ],\n",
       "       [115.67167 ],\n",
       "       [114.911514],\n",
       "       [114.04369 ],\n",
       "       [113.05589 ],\n",
       "       [112.02066 ],\n",
       "       [111.107956],\n",
       "       [110.636375],\n",
       "       [109.74067 ],\n",
       "       [109.30494 ],\n",
       "       [108.33139 ],\n",
       "       [107.14051 ],\n",
       "       [106.25067 ],\n",
       "       [106.28797 ],\n",
       "       [107.4764  ],\n",
       "       [109.1549  ],\n",
       "       [110.539154],\n",
       "       [111.53988 ],\n",
       "       [112.63349 ],\n",
       "       [113.576164],\n",
       "       [114.300186],\n",
       "       [114.933525],\n",
       "       [115.26313 ],\n",
       "       [115.17001 ],\n",
       "       [114.91247 ],\n",
       "       [114.3994  ],\n",
       "       [113.30969 ],\n",
       "       [112.198875],\n",
       "       [111.38384 ],\n",
       "       [110.90885 ],\n",
       "       [111.11233 ],\n",
       "       [112.20289 ],\n",
       "       [113.72848 ],\n",
       "       [115.271164],\n",
       "       [116.49814 ],\n",
       "       [117.57465 ],\n",
       "       [118.49155 ],\n",
       "       [118.79895 ],\n",
       "       [118.866905],\n",
       "       [118.65985 ],\n",
       "       [118.218506],\n",
       "       [118.54008 ],\n",
       "       [119.26855 ],\n",
       "       [120.276505],\n",
       "       [121.014046],\n",
       "       [121.70934 ],\n",
       "       [122.79378 ],\n",
       "       [123.8015  ],\n",
       "       [124.75782 ],\n",
       "       [126.19622 ],\n",
       "       [127.4387  ],\n",
       "       [128.2078  ],\n",
       "       [128.4311  ],\n",
       "       [127.81823 ],\n",
       "       [127.00246 ],\n",
       "       [125.53674 ],\n",
       "       [124.496376],\n",
       "       [124.029724],\n",
       "       [123.543564],\n",
       "       [123.11557 ],\n",
       "       [123.08293 ],\n",
       "       [122.98643 ],\n",
       "       [122.64892 ],\n",
       "       [122.3098  ],\n",
       "       [122.62129 ],\n",
       "       [123.947205],\n",
       "       [125.997215],\n",
       "       [128.75424 ],\n",
       "       [131.56055 ],\n",
       "       [133.80606 ],\n",
       "       [134.69777 ],\n",
       "       [133.90263 ],\n",
       "       [132.47935 ],\n",
       "       [130.97966 ],\n",
       "       [129.4734  ],\n",
       "       [128.69612 ],\n",
       "       [128.34834 ],\n",
       "       [128.35564 ],\n",
       "       [128.48093 ],\n",
       "       [128.57263 ],\n",
       "       [128.58691 ],\n",
       "       [128.60568 ],\n",
       "       [128.32422 ],\n",
       "       [127.568634],\n",
       "       [126.45776 ],\n",
       "       [125.30094 ],\n",
       "       [123.746635],\n",
       "       [122.15258 ],\n",
       "       [120.70706 ],\n",
       "       [118.96705 ],\n",
       "       [117.37687 ],\n",
       "       [117.04226 ],\n",
       "       [117.1292  ],\n",
       "       [117.06452 ],\n",
       "       [116.670166],\n",
       "       [116.29508 ],\n",
       "       [115.29235 ],\n",
       "       [114.72011 ],\n",
       "       [114.33792 ],\n",
       "       [114.417465],\n",
       "       [114.64164 ],\n",
       "       [115.34307 ],\n",
       "       [116.468445],\n",
       "       [117.58546 ],\n",
       "       [117.943756],\n",
       "       [117.704895],\n",
       "       [117.619736],\n",
       "       [117.497086],\n",
       "       [117.03014 ],\n",
       "       [116.513176],\n",
       "       [116.10637 ],\n",
       "       [115.8154  ],\n",
       "       [115.46709 ],\n",
       "       [115.461586],\n",
       "       [115.784966],\n",
       "       [116.66074 ],\n",
       "       [117.824905],\n",
       "       [119.19627 ],\n",
       "       [120.8593  ],\n",
       "       [122.80802 ],\n",
       "       [124.40574 ],\n",
       "       [125.97986 ],\n",
       "       [126.954315],\n",
       "       [127.767494],\n",
       "       [128.31386 ],\n",
       "       [128.69055 ],\n",
       "       [128.63235 ],\n",
       "       [128.37982 ],\n",
       "       [127.8254  ],\n",
       "       [127.4861  ],\n",
       "       [127.372734],\n",
       "       [127.37081 ],\n",
       "       [127.3361  ],\n",
       "       [127.25841 ],\n",
       "       [126.88607 ],\n",
       "       [126.530266],\n",
       "       [125.584076],\n",
       "       [124.451805],\n",
       "       [123.58831 ],\n",
       "       [123.0754  ],\n",
       "       [122.408005],\n",
       "       [121.602715],\n",
       "       [120.41799 ],\n",
       "       [119.46826 ],\n",
       "       [119.157135],\n",
       "       [119.11993 ],\n",
       "       [119.0842  ],\n",
       "       [119.03387 ],\n",
       "       [119.362366],\n",
       "       [119.59329 ],\n",
       "       [119.979225],\n",
       "       [120.37601 ],\n",
       "       [120.71961 ],\n",
       "       [120.75722 ],\n",
       "       [120.51813 ],\n",
       "       [120.08089 ],\n",
       "       [119.720406],\n",
       "       [119.226776],\n",
       "       [119.04772 ],\n",
       "       [119.08799 ],\n",
       "       [119.39953 ]], dtype=float32)"
      ]
     },
     "execution_count": 51,
     "metadata": {
      "tags": []
     },
     "output_type": "execute_result"
    }
   ],
   "source": [
    "predictions"
   ]
  },
  {
   "cell_type": "code",
   "execution_count": null,
   "id": "d60aab32",
   "metadata": {
    "id": "d60aab32",
    "outputId": "29e7ce72-09ef-4cdd-8e28-a18e46dee93d",
    "scrolled": true
   },
   "outputs": [
    {
     "name": "stdout",
     "output_type": "stream",
     "text": [
      "Root Mean Squared Error =  4.587044402699412\n"
     ]
    }
   ],
   "source": [
    "# Get the root mean squared error (RMSE)\n",
    "rmse = np.sqrt(np.mean(predictions - y_test)**2)\n",
    "print(\"Root Mean Squared Error = \", rmse)"
   ]
  },
  {
   "cell_type": "code",
   "execution_count": null,
   "id": "e066cbd2",
   "metadata": {
    "id": "e066cbd2",
    "outputId": "6e190148-5648-4db7-fde5-6e54284446d1"
   },
   "outputs": [
    {
     "name": "stdout",
     "output_type": "stream",
     "text": [
      "R2 Score =  93.33804725421822\n"
     ]
    }
   ],
   "source": [
    "from sklearn.metrics import r2_score\n",
    "R2_Score=(r2_score(y_test,predictions)*100)\n",
    "print(\"R2 Score = \",R2_Score)"
   ]
  },
  {
   "cell_type": "markdown",
   "id": "466836c2",
   "metadata": {
    "id": "466836c2"
   },
   "source": [
    "### Plotting the Prediction"
   ]
  },
  {
   "cell_type": "code",
   "execution_count": null,
   "id": "543c8b7e",
   "metadata": {
    "id": "543c8b7e",
    "outputId": "98895952-f299-4df8-e752-f6a9c5352069"
   },
   "outputs": [
    {
     "data": {
      "image/png": "[encoded data removed]",
      "text/plain": [
       "<Figure size 1152x648 with 1 Axes>"
      ]
     },
     "metadata": {
      "tags": []
     },
     "output_type": "display_data"
    }
   ],
   "source": [
    "# Plot the data\n",
    "import copy\n",
    "valid = copy.deepcopy(stock_data[training_data_len:])\n",
    "valid['Predictions'] = predictions\n",
    "\n",
    "#Visualize the data\n",
    "plt.figure(figsize=(16,9))\n",
    "plt.title('Model', fontsize = 20,color = 'g')\n",
    "plt.xlabel('Date', fontsize= 15, color = 'g')\n",
    "plt.ylabel('Close Price USD ($)', fontsize = 15, color = 'g')\n",
    "plt.plot(valid['Close'], color = 'blue', label = 'Actual Close Price')\n",
    "plt.plot(valid['Predictions'],  color = 'red', label = 'Predicted Close Price')\n",
    "plt.legend(loc = 'lower right', fontsize = 12)\n",
    "plt.xticks(fontsize = 12)\n",
    "plt.yticks(fontsize = 12)\n",
    "plt.show()"
   ]
  },
  {
   "cell_type": "code",
   "execution_count": null,
   "id": "ba1c8c53",
   "metadata": {
    "id": "ba1c8c53",
    "outputId": "d700945d-72cd-4ccf-d508-ea4f88855356",
    "scrolled": false
   },
   "outputs": [
    {
     "data": {
      "text/html": [
       "<div>\n",
       "<style scoped>\n",
       "    .dataframe tbody tr th:only-of-type {\n",
       "        vertical-align: middle;\n",
       "    }\n",
       "\n",
       "    .dataframe tbody tr th {\n",
       "        vertical-align: top;\n",
       "    }\n",
       "\n",
       "    .dataframe thead th {\n",
       "        text-align: right;\n",
       "    }\n",
       "</style>\n",
       "<table border=\"1\" class=\"dataframe\">\n",
       "  <thead>\n",
       "    <tr style=\"text-align: right;\">\n",
       "      <th></th>\n",
       "      <th>Close</th>\n",
       "      <th>compound</th>\n",
       "      <th>negative</th>\n",
       "      <th>neutral</th>\n",
       "      <th>positive</th>\n",
       "      <th>polarity</th>\n",
       "      <th>subjectivity</th>\n",
       "      <th>Open</th>\n",
       "      <th>High</th>\n",
       "      <th>Low</th>\n",
       "      <th>Volume</th>\n",
       "      <th>Predictions</th>\n",
       "    </tr>\n",
       "    <tr>\n",
       "      <th>Date</th>\n",
       "      <th></th>\n",
       "      <th></th>\n",
       "      <th></th>\n",
       "      <th></th>\n",
       "      <th></th>\n",
       "      <th></th>\n",
       "      <th></th>\n",
       "      <th></th>\n",
       "      <th></th>\n",
       "      <th></th>\n",
       "      <th></th>\n",
       "      <th></th>\n",
       "    </tr>\n",
       "  </thead>\n",
       "  <tbody>\n",
       "    <tr>\n",
       "      <th>27-02-2020</th>\n",
       "      <td>68.3800</td>\n",
       "      <td>-0.9209</td>\n",
       "      <td>0.089</td>\n",
       "      <td>0.835</td>\n",
       "      <td>0.075</td>\n",
       "      <td>0.144260</td>\n",
       "      <td>0.404906</td>\n",
       "      <td>70.2750</td>\n",
       "      <td>71.5000</td>\n",
       "      <td>68.2400</td>\n",
       "      <td>320605520</td>\n",
       "      <td>74.117287</td>\n",
       "    </tr>\n",
       "    <tr>\n",
       "      <th>28-02-2020</th>\n",
       "      <td>68.3400</td>\n",
       "      <td>0.8441</td>\n",
       "      <td>0.047</td>\n",
       "      <td>0.888</td>\n",
       "      <td>0.065</td>\n",
       "      <td>-0.062970</td>\n",
       "      <td>0.385005</td>\n",
       "      <td>64.3150</td>\n",
       "      <td>69.6025</td>\n",
       "      <td>64.0925</td>\n",
       "      <td>426884800</td>\n",
       "      <td>72.024605</td>\n",
       "    </tr>\n",
       "    <tr>\n",
       "      <th>02-03-2020</th>\n",
       "      <td>74.7025</td>\n",
       "      <td>0.8747</td>\n",
       "      <td>0.091</td>\n",
       "      <td>0.821</td>\n",
       "      <td>0.088</td>\n",
       "      <td>0.085581</td>\n",
       "      <td>0.358134</td>\n",
       "      <td>70.5700</td>\n",
       "      <td>75.3600</td>\n",
       "      <td>69.4300</td>\n",
       "      <td>341397360</td>\n",
       "      <td>69.969917</td>\n",
       "    </tr>\n",
       "    <tr>\n",
       "      <th>03-03-2020</th>\n",
       "      <td>72.3300</td>\n",
       "      <td>0.9946</td>\n",
       "      <td>0.065</td>\n",
       "      <td>0.821</td>\n",
       "      <td>0.115</td>\n",
       "      <td>0.082967</td>\n",
       "      <td>0.368845</td>\n",
       "      <td>75.9175</td>\n",
       "      <td>76.0000</td>\n",
       "      <td>71.4500</td>\n",
       "      <td>319475400</td>\n",
       "      <td>69.128967</td>\n",
       "    </tr>\n",
       "    <tr>\n",
       "      <th>04-03-2020</th>\n",
       "      <td>75.6850</td>\n",
       "      <td>0.9699</td>\n",
       "      <td>0.060</td>\n",
       "      <td>0.847</td>\n",
       "      <td>0.094</td>\n",
       "      <td>0.128331</td>\n",
       "      <td>0.373890</td>\n",
       "      <td>74.1100</td>\n",
       "      <td>75.8500</td>\n",
       "      <td>73.2825</td>\n",
       "      <td>219178280</td>\n",
       "      <td>68.835739</td>\n",
       "    </tr>\n",
       "    <tr>\n",
       "      <th>...</th>\n",
       "      <td>...</td>\n",
       "      <td>...</td>\n",
       "      <td>...</td>\n",
       "      <td>...</td>\n",
       "      <td>...</td>\n",
       "      <td>...</td>\n",
       "      <td>...</td>\n",
       "      <td>...</td>\n",
       "      <td>...</td>\n",
       "      <td>...</td>\n",
       "      <td>...</td>\n",
       "      <td>...</td>\n",
       "    </tr>\n",
       "    <tr>\n",
       "      <th>03-06-2021</th>\n",
       "      <td>123.5400</td>\n",
       "      <td>0.9945</td>\n",
       "      <td>0.042</td>\n",
       "      <td>0.868</td>\n",
       "      <td>0.090</td>\n",
       "      <td>0.116462</td>\n",
       "      <td>0.337818</td>\n",
       "      <td>124.6800</td>\n",
       "      <td>124.8500</td>\n",
       "      <td>123.1300</td>\n",
       "      <td>76229170</td>\n",
       "      <td>119.720406</td>\n",
       "    </tr>\n",
       "    <tr>\n",
       "      <th>04-06-2021</th>\n",
       "      <td>125.8900</td>\n",
       "      <td>0.9939</td>\n",
       "      <td>0.024</td>\n",
       "      <td>0.902</td>\n",
       "      <td>0.074</td>\n",
       "      <td>0.134752</td>\n",
       "      <td>0.407989</td>\n",
       "      <td>124.0700</td>\n",
       "      <td>126.1600</td>\n",
       "      <td>123.8500</td>\n",
       "      <td>75169340</td>\n",
       "      <td>119.226776</td>\n",
       "    </tr>\n",
       "    <tr>\n",
       "      <th>07-06-2021</th>\n",
       "      <td>125.9000</td>\n",
       "      <td>0.9988</td>\n",
       "      <td>0.020</td>\n",
       "      <td>0.869</td>\n",
       "      <td>0.111</td>\n",
       "      <td>0.174406</td>\n",
       "      <td>0.456795</td>\n",
       "      <td>126.1700</td>\n",
       "      <td>126.3200</td>\n",
       "      <td>124.8321</td>\n",
       "      <td>71057550</td>\n",
       "      <td>119.047722</td>\n",
       "    </tr>\n",
       "    <tr>\n",
       "      <th>08-06-2021</th>\n",
       "      <td>126.7400</td>\n",
       "      <td>0.9975</td>\n",
       "      <td>0.027</td>\n",
       "      <td>0.873</td>\n",
       "      <td>0.101</td>\n",
       "      <td>0.141016</td>\n",
       "      <td>0.429049</td>\n",
       "      <td>126.6000</td>\n",
       "      <td>128.4600</td>\n",
       "      <td>126.2101</td>\n",
       "      <td>74403770</td>\n",
       "      <td>119.087990</td>\n",
       "    </tr>\n",
       "    <tr>\n",
       "      <th>09-06-2021</th>\n",
       "      <td>127.1300</td>\n",
       "      <td>0.9928</td>\n",
       "      <td>0.034</td>\n",
       "      <td>0.889</td>\n",
       "      <td>0.077</td>\n",
       "      <td>0.157241</td>\n",
       "      <td>0.392757</td>\n",
       "      <td>127.2100</td>\n",
       "      <td>127.7500</td>\n",
       "      <td>126.5200</td>\n",
       "      <td>56877940</td>\n",
       "      <td>119.399529</td>\n",
       "    </tr>\n",
       "  </tbody>\n",
       "</table>\n",
       "<p>324 rows × 12 columns</p>\n",
       "</div>"
      ],
      "text/plain": [
       "               Close  compound  negative  neutral  positive  polarity  \\\n",
       "Date                                                                    \n",
       "27-02-2020   68.3800   -0.9209     0.089    0.835     0.075  0.144260   \n",
       "28-02-2020   68.3400    0.8441     0.047    0.888     0.065 -0.062970   \n",
       "02-03-2020   74.7025    0.8747     0.091    0.821     0.088  0.085581   \n",
       "03-03-2020   72.3300    0.9946     0.065    0.821     0.115  0.082967   \n",
       "04-03-2020   75.6850    0.9699     0.060    0.847     0.094  0.128331   \n",
       "...              ...       ...       ...      ...       ...       ...   \n",
       "03-06-2021  123.5400    0.9945     0.042    0.868     0.090  0.116462   \n",
       "04-06-2021  125.8900    0.9939     0.024    0.902     0.074  0.134752   \n",
       "07-06-2021  125.9000    0.9988     0.020    0.869     0.111  0.174406   \n",
       "08-06-2021  126.7400    0.9975     0.027    0.873     0.101  0.141016   \n",
       "09-06-2021  127.1300    0.9928     0.034    0.889     0.077  0.157241   \n",
       "\n",
       "            subjectivity      Open      High       Low     Volume  Predictions  \n",
       "Date                                                                            \n",
       "27-02-2020      0.404906   70.2750   71.5000   68.2400  320605520    74.117287  \n",
       "28-02-2020      0.385005   64.3150   69.6025   64.0925  426884800    72.024605  \n",
       "02-03-2020      0.358134   70.5700   75.3600   69.4300  341397360    69.969917  \n",
       "03-03-2020      0.368845   75.9175   76.0000   71.4500  319475400    69.128967  \n",
       "04-03-2020      0.373890   74.1100   75.8500   73.2825  219178280    68.835739  \n",
       "...                  ...       ...       ...       ...        ...          ...  \n",
       "03-06-2021      0.337818  124.6800  124.8500  123.1300   76229170   119.720406  \n",
       "04-06-2021      0.407989  124.0700  126.1600  123.8500   75169340   119.226776  \n",
       "07-06-2021      0.456795  126.1700  126.3200  124.8321   71057550   119.047722  \n",
       "08-06-2021      0.429049  126.6000  128.4600  126.2101   74403770   119.087990  \n",
       "09-06-2021      0.392757  127.2100  127.7500  126.5200   56877940   119.399529  \n",
       "\n",
       "[324 rows x 12 columns]"
      ]
     },
     "execution_count": 55,
     "metadata": {
      "tags": []
     },
     "output_type": "execute_result"
    }
   ],
   "source": [
    "# Show the valid and Predicted Prices\n",
    "valid"
   ]
  },
  {
   "cell_type": "markdown",
   "id": "2c33c560",
   "metadata": {
    "id": "2c33c560"
   },
   "source": [
    "### Predicting Close price for next day after the Historical data ends"
   ]
  },
  {
   "cell_type": "code",
   "execution_count": null,
   "id": "cfffd0cb",
   "metadata": {
    "id": "cfffd0cb",
    "outputId": "db6dfcd4-c1cf-49e8-d44e-a7f24b149fdb"
   },
   "outputs": [
    {
     "name": "stdout",
     "output_type": "stream",
     "text": [
      "09-06-2021\n"
     ]
    }
   ],
   "source": [
    "import datetime\n",
    "last_day = stock_data.index[-1]\n",
    "print(last_day)"
   ]
  },
  {
   "cell_type": "code",
   "execution_count": null,
   "id": "31fb2170",
   "metadata": {
    "id": "31fb2170",
    "outputId": "3ea80676-1367-460f-a9f1-74ad93f08c78"
   },
   "outputs": [
    {
     "data": {
      "text/plain": [
       "'10-06-2021'"
      ]
     },
     "execution_count": 58,
     "metadata": {
      "tags": []
     },
     "output_type": "execute_result"
    }
   ],
   "source": [
    "# Getting next day from where the Historical Dataset ends\n",
    "import datetime\n",
    "next_day = datetime.date(2021, 6, 10)\n",
    "next_day.strftime(\"%d-%m-%Y\")"
   ]
  },
  {
   "cell_type": "code",
   "execution_count": null,
   "id": "726546e2",
   "metadata": {
    "id": "726546e2",
    "outputId": "a312a25e-f1ec-48a1-a06b-dc3bb0a6fed1"
   },
   "outputs": [
    {
     "name": "stdout",
     "output_type": "stream",
     "text": [
      "Predicted Close Price for 2021-06-10  =  [[119.88295]]\n"
     ]
    }
   ],
   "source": [
    "# Create a new dataframe\n",
    "new_df = stock_data.filter(['Close'])\n",
    "# Get the last 20 day closing price values and convert the dataframe to an array\n",
    "last_20_days = new_df[-20: ].values\n",
    "# Scale the data to be values between 0 and 1\n",
    "last_20_days_scaled = scaler.transform(last_20_days)\n",
    "# Create an empty list\n",
    "x_test = []\n",
    "# Append the past 20 days\n",
    "x_test.append(last_20_days_scaled)\n",
    "# Convert the X_test data set to a numpy array\n",
    "x_test = np.array(x_test)\n",
    "# Reshape the data\n",
    "x_test = np.reshape(x_test, (x_test.shape[0], x_test.shape[1], 1))\n",
    "# Get the predicted scaled price\n",
    "pred_price = model.predict(x_test)\n",
    "# undo the scaling\n",
    "pred_price = scaler.inverse_transform(pred_price)\n",
    "print('Predicted Close Price for {} '.format(next_day) + ' = ', pred_price)"
   ]
  },
  {
   "cell_type": "code",
   "execution_count": null,
   "id": "c315371b",
   "metadata": {
    "id": "c315371b"
   },
   "outputs": [],
   "source": [
    "previous = pred_price\n",
    "previous_pred_price = new_df.at[str(last_day), 'Close']"
   ]
  },
  {
   "cell_type": "code",
   "execution_count": null,
   "id": "3250801d",
   "metadata": {
    "id": "3250801d",
    "outputId": "1b4aee46-aa63-42e8-ceae-3dc0197f0703"
   },
   "outputs": [
    {
     "name": "stdout",
     "output_type": "stream",
     "text": [
      "Predicted Close Price for 09-06-2021  =  127.13\n"
     ]
    }
   ],
   "source": [
    "print('Predicted Close Price for {} '.format(last_day) + ' = ', previous_pred_price)"
   ]
  },
  {
   "cell_type": "code",
   "execution_count": null,
   "id": "97457af4",
   "metadata": {
    "id": "97457af4",
    "outputId": "dd8de674-8fc0-461b-d8f2-416b8c2ebc03"
   },
   "outputs": [
    {
     "name": "stdout",
     "output_type": "stream",
     "text": [
      "percentage decrease =  5.7005\n"
     ]
    }
   ],
   "source": [
    "diff=(float)(pred_price - previous_pred_price)\n",
    "if(diff < 0):\n",
    "  print(\"percentage decrease = \",round(((- (diff)/previous_pred_price)*100),4))\n",
    "else:\n",
    "  print(\"percentage increase = \",round((( (diff)/previous_pred_price)*100),4))"
   ]
  },
  {
   "cell_type": "code",
   "execution_count": null,
   "id": "dcef93b3",
   "metadata": {
    "id": "dcef93b3"
   },
   "outputs": [],
   "source": [
    "from keras.models import load_model\n",
    "model.save('stock_pred_model.h5') "
   ]
  },
  {
   "cell_type": "code",
   "execution_count": null,
   "id": "76eae3d7",
   "metadata": {
    "id": "76eae3d7"
   },
   "outputs": [],
   "source": []
  }
 ],
 "metadata": {
  "colab": {
   "name": "LSTM Model for APPLE Stock Price Prediction.ipynb",
   "provenance": []
  },
  "kernelspec": {
   "display_name": "Python 3 (ipykernel)",
   "language": "python",
   "name": "python3"
  },
  "language_info": {
   "codemirror_mode": {
    "name": "ipython",
    "version": 3
   },
   "file_extension": ".py",
   "mimetype": "text/x-python",
   "name": "python",
   "nbconvert_exporter": "python",
   "pygments_lexer": "ipython3",
   "version": "3.9.6"
  }
 },
 "nbformat": 4,
 "nbformat_minor": 5
}
